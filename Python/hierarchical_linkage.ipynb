{
  "cells": [
    {
      "cell_type": "code",
      "execution_count": 1,
      "metadata": {
        "id": "0E_hvBgPvgJ4"
      },
      "outputs": [],
      "source": [
        "import pandas as pd\n",
        "import numpy as np\n",
        "import math\n",
        "import matplotlib.pyplot as plt\n",
        "from scipy.spatial import distance\n",
        "import os\n",
        "# from sklearn.cluster import KMeans\n",
        "# from sklearn.metrics import adjusted_rand_score, silhouette_score\n",
        "from scipy import stats as st\n",
        "from mpl_toolkits import mplot3d\n",
        "import plotly.graph_objs as go\n",
        "import copy"
      ]
    },
    {
      "cell_type": "code",
      "execution_count": 2,
      "metadata": {
        "id": "0DEaYKfDy9wO"
      },
      "outputs": [],
      "source": [
        "def dist(A,B,k):\n",
        "  # print(A)\n",
        "  # print(B)\n",
        "  dis=0\n",
        "  \n",
        "  for i in range(0,len(A)):\n",
        "    dis+=(A[i]-B[i])*(A[i]-B[i])\n",
        "  # print(dis)    \n",
        "  return dis  "
      ]
    },
    {
      "cell_type": "code",
      "execution_count": 3,
      "metadata": {
        "id": "nFTGg8m9yZQh"
      },
      "outputs": [],
      "source": [
        "\n",
        "def Distance(cluster1,cluster2,k):\n",
        "  Dis=0\n",
        "  if k==1:\n",
        "    Dis=10000000000000   #min\n",
        "    for i in cluster1:\n",
        "      for j in cluster2:\n",
        "        Dis=min(Dis,dist(i,j,k))\n",
        "  elif k==2:      \n",
        "    Dis=0             #max\n",
        "    for i in cluster1:\n",
        "      for j in cluster2:\n",
        "        Dis=max(Dis,dist(i,j,k))\n",
        "  elif k==3:      \n",
        "    Dis=0             #avg\n",
        "    cnt=0\n",
        "    for i in cluster1:\n",
        "      for j in cluster2:\n",
        "        # print(i,\" \",j,\"------------\")\n",
        "        Dis+=dist(i,j,k)\n",
        "        cnt+=1\n",
        "    Dis/=cnt    \n",
        "  return Dis    "
      ]
    },
    {
      "cell_type": "code",
      "execution_count": 7,
      "metadata": {
        "id": "Jrkh5eATxk4M"
      },
      "outputs": [],
      "source": [
        "def linkage(X,k,l):\n",
        "  cluster=[]\n",
        "  for i in range (0,len(X)):\n",
        "    cluster.append(i)\n",
        "    \n",
        "  for abc in range(0,len(X)-k):\n",
        "    # print(cluster)\n",
        "    N=len(set(cluster))\n",
        "    Dis=1000000000\n",
        "    ind1=-1\n",
        "    ind2=-1\n",
        "    for i in range(0,N):\n",
        "      for j in range(i+1,N):\n",
        "        lis1=[]\n",
        "        lis2=[]\n",
        "        for m in range(0,len(cluster)):\n",
        "          if cluster[m]==i:\n",
        "            lis1.append(X[m])\n",
        "          elif cluster[m]==j:\n",
        "            lis2.append(X[m])  \n",
        "        # print(lis1,\" \",lis2,\" \",Distance(lis1,lis2,l))\n",
        "        if Distance(lis1,lis2,l)<Dis:\n",
        "          Dis=Distance(lis1,lis2,l)\n",
        "          ind1=i\n",
        "          ind2=j\n",
        "    # print(ind1,\" \",ind2,\" \",Dis)      \n",
        "    for i in range(0,len(cluster)):\n",
        "      if cluster[i]==ind2:\n",
        "        cluster[i]=ind1\n",
        "      elif cluster[i]>ind2:\n",
        "        cluster[i]-=1  \n",
        "\n",
        "        \n",
        "  return cluster  \n",
        "\n"
      ]
    },
    {
      "cell_type": "code",
      "execution_count": 18,
      "metadata": {
        "id": "gmxEymXdbffS"
      },
      "outputs": [],
      "source": [
        "import plotly.graph_objs as go\n",
        "from plotly.subplots import make_subplots\n",
        "import numpy as np\n",
        "\n",
        "def plot(datasets, labels):\n",
        "    #colour pattern\n",
        "    colorscale = ['white','red','yellow','green','orange','violet','blue']\n",
        "\n",
        "    # Define the layout for the plot\n",
        "    layout = go.Layout(\n",
        "        margin=dict(l=0, r=0, b=0, t=0),\n",
        "        scene=dict(\n",
        "            xaxis=dict(title='X'),\n",
        "            yaxis=dict(title='Y'),\n",
        "            zaxis=dict(title='Z'),\n",
        "            aspectmode='data',\n",
        "            aspectratio=dict(x=1, y=1, z=1),\n",
        "            bgcolor='black',\n",
        "           \n",
        "            camera=dict(\n",
        "                up=dict(x=0, y=0, z=1),\n",
        "            ),\n",
        "        ),\n",
        "        paper_bgcolor='black',\n",
        "    )\n",
        "\n",
        "    #figure 1\n",
        "    trace = go.Scatter3d(\n",
        "        x=datasets[:, 0],\n",
        "        y=datasets[:, 1],\n",
        "        z=datasets[:, 2],\n",
        "        mode='markers',\n",
        "        marker=dict(\n",
        "            color=\"white\",\n",
        "            size=3,\n",
        "            opacity=1,\n",
        "            \n",
        "        ),\n",
        "    )\n",
        "\n",
        "    #figure 2\n",
        "    trace1 = go.Scatter3d(\n",
        "        x=datasets[:,0],\n",
        "        y=datasets[:,1],\n",
        "        z=datasets[:,2],\n",
        "        mode='markers',\n",
        "        marker=dict(\n",
        "            color=labels,\n",
        "            colorscale=colorscale,\n",
        "            size=3,\n",
        "            opacity=1,\n",
        "            \n",
        "        ),\n",
        "    )\n",
        "\n",
        "    #figure 3\n",
        "    # dataset=datasets[np.where(labels!=-1)]\n",
        "    # label=labels[np.where(labels!=-1)]\n",
        "    # colorscale=colorscale[1:]\n",
        "    # trace2 = go.Scatter3d(\n",
        "    #     x=dataset[:,0],\n",
        "    #     y=dataset[:,1],\n",
        "    #     z=dataset[:,2],\n",
        "    #     mode='markers',\n",
        "    #     marker=dict(\n",
        "    #         color=label,\n",
        "    #         colorscale=colorscale,\n",
        "    #         size=1,\n",
        "    #         opacity=1,\n",
        "            \n",
        "    #     ),\n",
        "    # )\n",
        "    fig = make_subplots(rows=1, cols=2, specs=[[{'type': 'scatter3d'}]*2]*1)\n",
        "    fig.update_layout(layout)\n",
        "\n",
        "    fig.add_trace(trace, row=1, col=1)\n",
        "    fig.add_trace(trace1, row=1, col=2)\n",
        "    # fig.add_trace(trace2, row=1, col=3)\n",
        "    \n",
        "    for template in [\"plotly\", \"plotly_white\", \"plotly_dark\", \"ggplot2\", \"seaborn\", \"simple_white\", \"none\"]:\n",
        "        fig.update_layout(template=template)\n",
        "    fig.show()    \n",
        "    return fig\n",
        " "
      ]
    },
    {
      "cell_type": "code",
      "execution_count": 22,
      "metadata": {
        "colab": {
          "base_uri": "https://localhost:8080/",
          "height": 1000
        },
        "id": "WMwW-MCJuvUi",
        "outputId": "c768aafe-81f3-49cc-e8f6-826e5238820b"
      },
      "outputs": [
        {
          "name": "stdout",
          "output_type": "stream",
          "text": [
            "[[0.1 0.2 0.3]\n",
            " [0.2 0.1 0.4]\n",
            " [0.3 0.3 0.1]\n",
            " [0.4 0.5 0.6]\n",
            " [0.5 0.7 0.8]\n",
            " [0.6 0.6 0.9]\n",
            " [0.7 0.4 0.7]\n",
            " [0.8 0.3 0.6]\n",
            " [0.9 0.4 0.4]\n",
            " [0.2 0.8 0.2]\n",
            " [0.4 0.9 0.4]\n",
            " [0.6 0.8 0.1]\n",
            " [0.8 0.7 0.2]\n",
            " [0.1 0.5 0.7]\n",
            " [0.3 0.4 0.9]\n",
            " [0.5 0.3 0.8]\n",
            " [0.7 0.2 0.5]\n",
            " [0.9 0.1 0.2]\n",
            " [0.2 0.1 0.5]\n",
            " [0.4 0.3 0.3]\n",
            " [0.6 0.5 0.2]\n",
            " [0.8 0.6 0.1]\n",
            " [0.1 0.8 0.5]\n",
            " [0.3 0.7 0.4]\n",
            " [0.5 0.6 0.3]]\n"
          ]
        },
        {
          "data": {
            "application/vnd.plotly.v1+json": {
              "config": {
                "plotlyServerURL": "https://plot.ly"
              },
              "data": [
                {
                  "marker": {
                    "color": "white",
                    "opacity": 1,
                    "size": 3
                  },
                  "mode": "markers",
                  "scene": "scene",
                  "type": "scatter3d",
                  "x": [
                    0.1,
                    0.2,
                    0.3,
                    0.4,
                    0.5,
                    0.6,
                    0.7,
                    0.8,
                    0.9,
                    0.2,
                    0.4,
                    0.6,
                    0.8,
                    0.1,
                    0.3,
                    0.5,
                    0.7,
                    0.9,
                    0.2,
                    0.4,
                    0.6,
                    0.8,
                    0.1,
                    0.3,
                    0.5
                  ],
                  "y": [
                    0.2,
                    0.1,
                    0.3,
                    0.5,
                    0.7,
                    0.6,
                    0.4,
                    0.3,
                    0.4,
                    0.8,
                    0.9,
                    0.8,
                    0.7,
                    0.5,
                    0.4,
                    0.3,
                    0.2,
                    0.1,
                    0.1,
                    0.3,
                    0.5,
                    0.6,
                    0.8,
                    0.7,
                    0.6
                  ],
                  "z": [
                    0.3,
                    0.4,
                    0.1,
                    0.6,
                    0.8,
                    0.9,
                    0.7,
                    0.6,
                    0.4,
                    0.2,
                    0.4,
                    0.1,
                    0.2,
                    0.7,
                    0.9,
                    0.8,
                    0.5,
                    0.2,
                    0.5,
                    0.3,
                    0.2,
                    0.1,
                    0.5,
                    0.4,
                    0.3
                  ]
                },
                {
                  "marker": {
                    "color": [
                      0,
                      0,
                      1,
                      2,
                      2,
                      2,
                      2,
                      2,
                      2,
                      1,
                      1,
                      1,
                      2,
                      1,
                      1,
                      2,
                      2,
                      2,
                      1,
                      1,
                      2,
                      2,
                      1,
                      1,
                      2
                    ],
                    "colorscale": [
                      [
                        0,
                        "white"
                      ],
                      [
                        0.16666666666666666,
                        "red"
                      ],
                      [
                        0.3333333333333333,
                        "yellow"
                      ],
                      [
                        0.5,
                        "green"
                      ],
                      [
                        0.6666666666666666,
                        "orange"
                      ],
                      [
                        0.8333333333333334,
                        "violet"
                      ],
                      [
                        1,
                        "blue"
                      ]
                    ],
                    "opacity": 1,
                    "size": 3
                  },
                  "mode": "markers",
                  "scene": "scene2",
                  "type": "scatter3d",
                  "x": [
                    0.1,
                    0.2,
                    0.3,
                    0.4,
                    0.5,
                    0.6,
                    0.7,
                    0.8,
                    0.9,
                    0.2,
                    0.4,
                    0.6,
                    0.8,
                    0.1,
                    0.3,
                    0.5,
                    0.7,
                    0.9,
                    0.2,
                    0.4,
                    0.6,
                    0.8,
                    0.1,
                    0.3,
                    0.5
                  ],
                  "y": [
                    0.2,
                    0.1,
                    0.3,
                    0.5,
                    0.7,
                    0.6,
                    0.4,
                    0.3,
                    0.4,
                    0.8,
                    0.9,
                    0.8,
                    0.7,
                    0.5,
                    0.4,
                    0.3,
                    0.2,
                    0.1,
                    0.1,
                    0.3,
                    0.5,
                    0.6,
                    0.8,
                    0.7,
                    0.6
                  ],
                  "z": [
                    0.3,
                    0.4,
                    0.1,
                    0.6,
                    0.8,
                    0.9,
                    0.7,
                    0.6,
                    0.4,
                    0.2,
                    0.4,
                    0.1,
                    0.2,
                    0.7,
                    0.9,
                    0.8,
                    0.5,
                    0.2,
                    0.5,
                    0.3,
                    0.2,
                    0.1,
                    0.5,
                    0.4,
                    0.3
                  ]
                }
              ],
              "layout": {
                "margin": {
                  "b": 0,
                  "l": 0,
                  "r": 0,
                  "t": 0
                },
                "paper_bgcolor": "black",
                "scene": {
                  "aspectmode": "data",
                  "aspectratio": {
                    "x": 1,
                    "y": 1,
                    "z": 1
                  },
                  "bgcolor": "black",
                  "camera": {
                    "up": {
                      "x": 0,
                      "y": 0,
                      "z": 1
                    }
                  },
                  "domain": {
                    "x": [
                      0,
                      0.45
                    ],
                    "y": [
                      0,
                      1
                    ]
                  },
                  "xaxis": {
                    "title": {
                      "text": "X"
                    }
                  },
                  "yaxis": {
                    "title": {
                      "text": "Y"
                    }
                  },
                  "zaxis": {
                    "title": {
                      "text": "Z"
                    }
                  }
                },
                "scene2": {
                  "domain": {
                    "x": [
                      0.55,
                      1
                    ],
                    "y": [
                      0,
                      1
                    ]
                  }
                },
                "template": {
                  "data": {
                    "scatter": [
                      {
                        "type": "scatter"
                      }
                    ]
                  }
                }
              }
            }
          },
          "metadata": {},
          "output_type": "display_data"
        },
        {
          "data": {
            "application/vnd.plotly.v1+json": {
              "config": {
                "plotlyServerURL": "https://plot.ly"
              },
              "data": [
                {
                  "marker": {
                    "color": "white",
                    "opacity": 1,
                    "size": 3
                  },
                  "mode": "markers",
                  "scene": "scene",
                  "type": "scatter3d",
                  "x": [
                    0.1,
                    0.2,
                    0.3,
                    0.4,
                    0.5,
                    0.6,
                    0.7,
                    0.8,
                    0.9,
                    0.2,
                    0.4,
                    0.6,
                    0.8,
                    0.1,
                    0.3,
                    0.5,
                    0.7,
                    0.9,
                    0.2,
                    0.4,
                    0.6,
                    0.8,
                    0.1,
                    0.3,
                    0.5
                  ],
                  "y": [
                    0.2,
                    0.1,
                    0.3,
                    0.5,
                    0.7,
                    0.6,
                    0.4,
                    0.3,
                    0.4,
                    0.8,
                    0.9,
                    0.8,
                    0.7,
                    0.5,
                    0.4,
                    0.3,
                    0.2,
                    0.1,
                    0.1,
                    0.3,
                    0.5,
                    0.6,
                    0.8,
                    0.7,
                    0.6
                  ],
                  "z": [
                    0.3,
                    0.4,
                    0.1,
                    0.6,
                    0.8,
                    0.9,
                    0.7,
                    0.6,
                    0.4,
                    0.2,
                    0.4,
                    0.1,
                    0.2,
                    0.7,
                    0.9,
                    0.8,
                    0.5,
                    0.2,
                    0.5,
                    0.3,
                    0.2,
                    0.1,
                    0.5,
                    0.4,
                    0.3
                  ]
                },
                {
                  "marker": {
                    "color": [
                      0,
                      0,
                      0,
                      1,
                      1,
                      1,
                      1,
                      1,
                      1,
                      2,
                      2,
                      2,
                      2,
                      1,
                      1,
                      1,
                      1,
                      1,
                      0,
                      0,
                      2,
                      2,
                      2,
                      2,
                      2
                    ],
                    "colorscale": [
                      [
                        0,
                        "white"
                      ],
                      [
                        0.16666666666666666,
                        "red"
                      ],
                      [
                        0.3333333333333333,
                        "yellow"
                      ],
                      [
                        0.5,
                        "green"
                      ],
                      [
                        0.6666666666666666,
                        "orange"
                      ],
                      [
                        0.8333333333333334,
                        "violet"
                      ],
                      [
                        1,
                        "blue"
                      ]
                    ],
                    "opacity": 1,
                    "size": 3
                  },
                  "mode": "markers",
                  "scene": "scene2",
                  "type": "scatter3d",
                  "x": [
                    0.1,
                    0.2,
                    0.3,
                    0.4,
                    0.5,
                    0.6,
                    0.7,
                    0.8,
                    0.9,
                    0.2,
                    0.4,
                    0.6,
                    0.8,
                    0.1,
                    0.3,
                    0.5,
                    0.7,
                    0.9,
                    0.2,
                    0.4,
                    0.6,
                    0.8,
                    0.1,
                    0.3,
                    0.5
                  ],
                  "y": [
                    0.2,
                    0.1,
                    0.3,
                    0.5,
                    0.7,
                    0.6,
                    0.4,
                    0.3,
                    0.4,
                    0.8,
                    0.9,
                    0.8,
                    0.7,
                    0.5,
                    0.4,
                    0.3,
                    0.2,
                    0.1,
                    0.1,
                    0.3,
                    0.5,
                    0.6,
                    0.8,
                    0.7,
                    0.6
                  ],
                  "z": [
                    0.3,
                    0.4,
                    0.1,
                    0.6,
                    0.8,
                    0.9,
                    0.7,
                    0.6,
                    0.4,
                    0.2,
                    0.4,
                    0.1,
                    0.2,
                    0.7,
                    0.9,
                    0.8,
                    0.5,
                    0.2,
                    0.5,
                    0.3,
                    0.2,
                    0.1,
                    0.5,
                    0.4,
                    0.3
                  ]
                }
              ],
              "layout": {
                "margin": {
                  "b": 0,
                  "l": 0,
                  "r": 0,
                  "t": 0
                },
                "paper_bgcolor": "black",
                "scene": {
                  "aspectmode": "data",
                  "aspectratio": {
                    "x": 1,
                    "y": 1,
                    "z": 1
                  },
                  "bgcolor": "black",
                  "camera": {
                    "up": {
                      "x": 0,
                      "y": 0,
                      "z": 1
                    }
                  },
                  "domain": {
                    "x": [
                      0,
                      0.45
                    ],
                    "y": [
                      0,
                      1
                    ]
                  },
                  "xaxis": {
                    "title": {
                      "text": "X"
                    }
                  },
                  "yaxis": {
                    "title": {
                      "text": "Y"
                    }
                  },
                  "zaxis": {
                    "title": {
                      "text": "Z"
                    }
                  }
                },
                "scene2": {
                  "domain": {
                    "x": [
                      0.55,
                      1
                    ],
                    "y": [
                      0,
                      1
                    ]
                  }
                },
                "template": {
                  "data": {
                    "scatter": [
                      {
                        "type": "scatter"
                      }
                    ]
                  }
                }
              }
            }
          },
          "metadata": {},
          "output_type": "display_data"
        },
        {
          "data": {
            "application/vnd.plotly.v1+json": {
              "config": {
                "plotlyServerURL": "https://plot.ly"
              },
              "data": [
                {
                  "marker": {
                    "color": "white",
                    "opacity": 1,
                    "size": 3
                  },
                  "mode": "markers",
                  "scene": "scene",
                  "type": "scatter3d",
                  "x": [
                    0.1,
                    0.2,
                    0.3,
                    0.4,
                    0.5,
                    0.6,
                    0.7,
                    0.8,
                    0.9,
                    0.2,
                    0.4,
                    0.6,
                    0.8,
                    0.1,
                    0.3,
                    0.5,
                    0.7,
                    0.9,
                    0.2,
                    0.4,
                    0.6,
                    0.8,
                    0.1,
                    0.3,
                    0.5
                  ],
                  "y": [
                    0.2,
                    0.1,
                    0.3,
                    0.5,
                    0.7,
                    0.6,
                    0.4,
                    0.3,
                    0.4,
                    0.8,
                    0.9,
                    0.8,
                    0.7,
                    0.5,
                    0.4,
                    0.3,
                    0.2,
                    0.1,
                    0.1,
                    0.3,
                    0.5,
                    0.6,
                    0.8,
                    0.7,
                    0.6
                  ],
                  "z": [
                    0.3,
                    0.4,
                    0.1,
                    0.6,
                    0.8,
                    0.9,
                    0.7,
                    0.6,
                    0.4,
                    0.2,
                    0.4,
                    0.1,
                    0.2,
                    0.7,
                    0.9,
                    0.8,
                    0.5,
                    0.2,
                    0.5,
                    0.3,
                    0.2,
                    0.1,
                    0.5,
                    0.4,
                    0.3
                  ]
                },
                {
                  "marker": {
                    "color": [
                      0,
                      0,
                      0,
                      1,
                      1,
                      1,
                      1,
                      1,
                      1,
                      2,
                      2,
                      2,
                      2,
                      1,
                      1,
                      1,
                      1,
                      1,
                      0,
                      0,
                      2,
                      2,
                      2,
                      2,
                      2
                    ],
                    "colorscale": [
                      [
                        0,
                        "white"
                      ],
                      [
                        0.16666666666666666,
                        "red"
                      ],
                      [
                        0.3333333333333333,
                        "yellow"
                      ],
                      [
                        0.5,
                        "green"
                      ],
                      [
                        0.6666666666666666,
                        "orange"
                      ],
                      [
                        0.8333333333333334,
                        "violet"
                      ],
                      [
                        1,
                        "blue"
                      ]
                    ],
                    "opacity": 1,
                    "size": 3
                  },
                  "mode": "markers",
                  "scene": "scene2",
                  "type": "scatter3d",
                  "x": [
                    0.1,
                    0.2,
                    0.3,
                    0.4,
                    0.5,
                    0.6,
                    0.7,
                    0.8,
                    0.9,
                    0.2,
                    0.4,
                    0.6,
                    0.8,
                    0.1,
                    0.3,
                    0.5,
                    0.7,
                    0.9,
                    0.2,
                    0.4,
                    0.6,
                    0.8,
                    0.1,
                    0.3,
                    0.5
                  ],
                  "y": [
                    0.2,
                    0.1,
                    0.3,
                    0.5,
                    0.7,
                    0.6,
                    0.4,
                    0.3,
                    0.4,
                    0.8,
                    0.9,
                    0.8,
                    0.7,
                    0.5,
                    0.4,
                    0.3,
                    0.2,
                    0.1,
                    0.1,
                    0.3,
                    0.5,
                    0.6,
                    0.8,
                    0.7,
                    0.6
                  ],
                  "z": [
                    0.3,
                    0.4,
                    0.1,
                    0.6,
                    0.8,
                    0.9,
                    0.7,
                    0.6,
                    0.4,
                    0.2,
                    0.4,
                    0.1,
                    0.2,
                    0.7,
                    0.9,
                    0.8,
                    0.5,
                    0.2,
                    0.5,
                    0.3,
                    0.2,
                    0.1,
                    0.5,
                    0.4,
                    0.3
                  ]
                }
              ],
              "layout": {
                "margin": {
                  "b": 0,
                  "l": 0,
                  "r": 0,
                  "t": 0
                },
                "paper_bgcolor": "black",
                "scene": {
                  "aspectmode": "data",
                  "aspectratio": {
                    "x": 1,
                    "y": 1,
                    "z": 1
                  },
                  "bgcolor": "black",
                  "camera": {
                    "up": {
                      "x": 0,
                      "y": 0,
                      "z": 1
                    }
                  },
                  "domain": {
                    "x": [
                      0,
                      0.45
                    ],
                    "y": [
                      0,
                      1
                    ]
                  },
                  "xaxis": {
                    "title": {
                      "text": "X"
                    }
                  },
                  "yaxis": {
                    "title": {
                      "text": "Y"
                    }
                  },
                  "zaxis": {
                    "title": {
                      "text": "Z"
                    }
                  }
                },
                "scene2": {
                  "domain": {
                    "x": [
                      0.55,
                      1
                    ],
                    "y": [
                      0,
                      1
                    ]
                  }
                },
                "template": {
                  "data": {
                    "scatter": [
                      {
                        "type": "scatter"
                      }
                    ]
                  }
                }
              }
            }
          },
          "metadata": {},
          "output_type": "display_data"
        },
        {
          "data": {
            "application/vnd.plotly.v1+json": {
              "config": {
                "plotlyServerURL": "https://plot.ly"
              },
              "data": [
                {
                  "marker": {
                    "color": "white",
                    "opacity": 1,
                    "size": 3
                  },
                  "mode": "markers",
                  "scene": "scene",
                  "type": "scatter3d",
                  "x": [
                    0.1,
                    0.2,
                    0.3,
                    0.4,
                    0.5,
                    0.6,
                    0.7,
                    0.8,
                    0.9,
                    0.2,
                    0.4,
                    0.6,
                    0.8,
                    0.1,
                    0.3,
                    0.5,
                    0.7,
                    0.9,
                    0.2,
                    0.4,
                    0.6,
                    0.8,
                    0.1,
                    0.3,
                    0.5
                  ],
                  "y": [
                    0.2,
                    0.1,
                    0.3,
                    0.5,
                    0.7,
                    0.6,
                    0.4,
                    0.3,
                    0.4,
                    0.8,
                    0.9,
                    0.8,
                    0.7,
                    0.5,
                    0.4,
                    0.3,
                    0.2,
                    0.1,
                    0.1,
                    0.3,
                    0.5,
                    0.6,
                    0.8,
                    0.7,
                    0.6
                  ],
                  "z": [
                    0.3,
                    0.4,
                    0.1,
                    0.6,
                    0.8,
                    0.9,
                    0.7,
                    0.6,
                    0.4,
                    0.2,
                    0.4,
                    0.1,
                    0.2,
                    0.7,
                    0.9,
                    0.8,
                    0.5,
                    0.2,
                    0.5,
                    0.3,
                    0.2,
                    0.1,
                    0.5,
                    0.4,
                    0.3
                  ]
                },
                {
                  "marker": {
                    "color": [
                      0,
                      0,
                      0,
                      1,
                      1,
                      1,
                      1,
                      1,
                      1,
                      2,
                      2,
                      2,
                      2,
                      1,
                      1,
                      1,
                      1,
                      1,
                      0,
                      0,
                      2,
                      2,
                      2,
                      2,
                      2
                    ],
                    "colorscale": [
                      [
                        0,
                        "white"
                      ],
                      [
                        0.16666666666666666,
                        "red"
                      ],
                      [
                        0.3333333333333333,
                        "yellow"
                      ],
                      [
                        0.5,
                        "green"
                      ],
                      [
                        0.6666666666666666,
                        "orange"
                      ],
                      [
                        0.8333333333333334,
                        "violet"
                      ],
                      [
                        1,
                        "blue"
                      ]
                    ],
                    "opacity": 1,
                    "size": 3
                  },
                  "mode": "markers",
                  "scene": "scene2",
                  "type": "scatter3d",
                  "x": [
                    0.1,
                    0.2,
                    0.3,
                    0.4,
                    0.5,
                    0.6,
                    0.7,
                    0.8,
                    0.9,
                    0.2,
                    0.4,
                    0.6,
                    0.8,
                    0.1,
                    0.3,
                    0.5,
                    0.7,
                    0.9,
                    0.2,
                    0.4,
                    0.6,
                    0.8,
                    0.1,
                    0.3,
                    0.5
                  ],
                  "y": [
                    0.2,
                    0.1,
                    0.3,
                    0.5,
                    0.7,
                    0.6,
                    0.4,
                    0.3,
                    0.4,
                    0.8,
                    0.9,
                    0.8,
                    0.7,
                    0.5,
                    0.4,
                    0.3,
                    0.2,
                    0.1,
                    0.1,
                    0.3,
                    0.5,
                    0.6,
                    0.8,
                    0.7,
                    0.6
                  ],
                  "z": [
                    0.3,
                    0.4,
                    0.1,
                    0.6,
                    0.8,
                    0.9,
                    0.7,
                    0.6,
                    0.4,
                    0.2,
                    0.4,
                    0.1,
                    0.2,
                    0.7,
                    0.9,
                    0.8,
                    0.5,
                    0.2,
                    0.5,
                    0.3,
                    0.2,
                    0.1,
                    0.5,
                    0.4,
                    0.3
                  ]
                }
              ],
              "layout": {
                "margin": {
                  "b": 0,
                  "l": 0,
                  "r": 0,
                  "t": 0
                },
                "paper_bgcolor": "black",
                "scene": {
                  "aspectmode": "data",
                  "aspectratio": {
                    "x": 1,
                    "y": 1,
                    "z": 1
                  },
                  "bgcolor": "black",
                  "camera": {
                    "up": {
                      "x": 0,
                      "y": 0,
                      "z": 1
                    }
                  },
                  "domain": {
                    "x": [
                      0,
                      0.45
                    ],
                    "y": [
                      0,
                      1
                    ]
                  },
                  "xaxis": {
                    "title": {
                      "text": "X"
                    }
                  },
                  "yaxis": {
                    "title": {
                      "text": "Y"
                    }
                  },
                  "zaxis": {
                    "title": {
                      "text": "Z"
                    }
                  }
                },
                "scene2": {
                  "domain": {
                    "x": [
                      0.55,
                      1
                    ],
                    "y": [
                      0,
                      1
                    ]
                  }
                },
                "template": {
                  "data": {
                    "scatter": [
                      {
                        "type": "scatter"
                      }
                    ]
                  }
                }
              }
            }
          },
          "metadata": {},
          "output_type": "display_data"
        },
        {
          "data": {
            "application/vnd.plotly.v1+json": {
              "config": {
                "plotlyServerURL": "https://plot.ly"
              },
              "data": [
                {
                  "marker": {
                    "color": "white",
                    "opacity": 1,
                    "size": 3
                  },
                  "mode": "markers",
                  "scene": "scene",
                  "type": "scatter3d",
                  "x": [
                    0.1,
                    0.2,
                    0.3,
                    0.4,
                    0.5,
                    0.6,
                    0.7,
                    0.8,
                    0.9,
                    0.2,
                    0.4,
                    0.6,
                    0.8,
                    0.1,
                    0.3,
                    0.5,
                    0.7,
                    0.9,
                    0.2,
                    0.4,
                    0.6,
                    0.8,
                    0.1,
                    0.3,
                    0.5
                  ],
                  "y": [
                    0.2,
                    0.1,
                    0.3,
                    0.5,
                    0.7,
                    0.6,
                    0.4,
                    0.3,
                    0.4,
                    0.8,
                    0.9,
                    0.8,
                    0.7,
                    0.5,
                    0.4,
                    0.3,
                    0.2,
                    0.1,
                    0.1,
                    0.3,
                    0.5,
                    0.6,
                    0.8,
                    0.7,
                    0.6
                  ],
                  "z": [
                    0.3,
                    0.4,
                    0.1,
                    0.6,
                    0.8,
                    0.9,
                    0.7,
                    0.6,
                    0.4,
                    0.2,
                    0.4,
                    0.1,
                    0.2,
                    0.7,
                    0.9,
                    0.8,
                    0.5,
                    0.2,
                    0.5,
                    0.3,
                    0.2,
                    0.1,
                    0.5,
                    0.4,
                    0.3
                  ]
                },
                {
                  "marker": {
                    "color": [
                      0,
                      0,
                      1,
                      2,
                      2,
                      2,
                      2,
                      2,
                      2,
                      1,
                      1,
                      1,
                      2,
                      1,
                      1,
                      2,
                      2,
                      2,
                      1,
                      1,
                      2,
                      2,
                      1,
                      1,
                      2
                    ],
                    "colorscale": [
                      [
                        0,
                        "white"
                      ],
                      [
                        0.16666666666666666,
                        "red"
                      ],
                      [
                        0.3333333333333333,
                        "yellow"
                      ],
                      [
                        0.5,
                        "green"
                      ],
                      [
                        0.6666666666666666,
                        "orange"
                      ],
                      [
                        0.8333333333333334,
                        "violet"
                      ],
                      [
                        1,
                        "blue"
                      ]
                    ],
                    "opacity": 1,
                    "size": 3
                  },
                  "mode": "markers",
                  "scene": "scene2",
                  "type": "scatter3d",
                  "x": [
                    0.1,
                    0.2,
                    0.3,
                    0.4,
                    0.5,
                    0.6,
                    0.7,
                    0.8,
                    0.9,
                    0.2,
                    0.4,
                    0.6,
                    0.8,
                    0.1,
                    0.3,
                    0.5,
                    0.7,
                    0.9,
                    0.2,
                    0.4,
                    0.6,
                    0.8,
                    0.1,
                    0.3,
                    0.5
                  ],
                  "y": [
                    0.2,
                    0.1,
                    0.3,
                    0.5,
                    0.7,
                    0.6,
                    0.4,
                    0.3,
                    0.4,
                    0.8,
                    0.9,
                    0.8,
                    0.7,
                    0.5,
                    0.4,
                    0.3,
                    0.2,
                    0.1,
                    0.1,
                    0.3,
                    0.5,
                    0.6,
                    0.8,
                    0.7,
                    0.6
                  ],
                  "z": [
                    0.3,
                    0.4,
                    0.1,
                    0.6,
                    0.8,
                    0.9,
                    0.7,
                    0.6,
                    0.4,
                    0.2,
                    0.4,
                    0.1,
                    0.2,
                    0.7,
                    0.9,
                    0.8,
                    0.5,
                    0.2,
                    0.5,
                    0.3,
                    0.2,
                    0.1,
                    0.5,
                    0.4,
                    0.3
                  ]
                }
              ],
              "layout": {
                "margin": {
                  "b": 0,
                  "l": 0,
                  "r": 0,
                  "t": 0
                },
                "paper_bgcolor": "black",
                "scene": {
                  "aspectmode": "data",
                  "aspectratio": {
                    "x": 1,
                    "y": 1,
                    "z": 1
                  },
                  "bgcolor": "black",
                  "camera": {
                    "up": {
                      "x": 0,
                      "y": 0,
                      "z": 1
                    }
                  },
                  "domain": {
                    "x": [
                      0,
                      0.45
                    ],
                    "y": [
                      0,
                      1
                    ]
                  },
                  "xaxis": {
                    "title": {
                      "text": "X"
                    }
                  },
                  "yaxis": {
                    "title": {
                      "text": "Y"
                    }
                  },
                  "zaxis": {
                    "title": {
                      "text": "Z"
                    }
                  }
                },
                "scene2": {
                  "domain": {
                    "x": [
                      0.55,
                      1
                    ],
                    "y": [
                      0,
                      1
                    ]
                  }
                },
                "template": {
                  "data": {
                    "scatter": [
                      {
                        "type": "scatter"
                      }
                    ]
                  }
                }
              }
            }
          },
          "metadata": {},
          "output_type": "display_data"
        },
        {
          "data": {
            "application/vnd.plotly.v1+json": {
              "config": {
                "plotlyServerURL": "https://plot.ly"
              },
              "data": [
                {
                  "marker": {
                    "color": "white",
                    "opacity": 1,
                    "size": 3
                  },
                  "mode": "markers",
                  "scene": "scene",
                  "type": "scatter3d",
                  "x": [
                    0.1,
                    0.2,
                    0.3,
                    0.4,
                    0.5,
                    0.6,
                    0.7,
                    0.8,
                    0.9,
                    0.2,
                    0.4,
                    0.6,
                    0.8,
                    0.1,
                    0.3,
                    0.5,
                    0.7,
                    0.9,
                    0.2,
                    0.4,
                    0.6,
                    0.8,
                    0.1,
                    0.3,
                    0.5
                  ],
                  "y": [
                    0.2,
                    0.1,
                    0.3,
                    0.5,
                    0.7,
                    0.6,
                    0.4,
                    0.3,
                    0.4,
                    0.8,
                    0.9,
                    0.8,
                    0.7,
                    0.5,
                    0.4,
                    0.3,
                    0.2,
                    0.1,
                    0.1,
                    0.3,
                    0.5,
                    0.6,
                    0.8,
                    0.7,
                    0.6
                  ],
                  "z": [
                    0.3,
                    0.4,
                    0.1,
                    0.6,
                    0.8,
                    0.9,
                    0.7,
                    0.6,
                    0.4,
                    0.2,
                    0.4,
                    0.1,
                    0.2,
                    0.7,
                    0.9,
                    0.8,
                    0.5,
                    0.2,
                    0.5,
                    0.3,
                    0.2,
                    0.1,
                    0.5,
                    0.4,
                    0.3
                  ]
                },
                {
                  "marker": {
                    "color": [
                      0,
                      0,
                      0,
                      1,
                      1,
                      1,
                      1,
                      1,
                      1,
                      2,
                      2,
                      2,
                      2,
                      1,
                      1,
                      1,
                      1,
                      1,
                      0,
                      0,
                      2,
                      2,
                      2,
                      2,
                      2
                    ],
                    "colorscale": [
                      [
                        0,
                        "white"
                      ],
                      [
                        0.16666666666666666,
                        "red"
                      ],
                      [
                        0.3333333333333333,
                        "yellow"
                      ],
                      [
                        0.5,
                        "green"
                      ],
                      [
                        0.6666666666666666,
                        "orange"
                      ],
                      [
                        0.8333333333333334,
                        "violet"
                      ],
                      [
                        1,
                        "blue"
                      ]
                    ],
                    "opacity": 1,
                    "size": 3
                  },
                  "mode": "markers",
                  "scene": "scene2",
                  "type": "scatter3d",
                  "x": [
                    0.1,
                    0.2,
                    0.3,
                    0.4,
                    0.5,
                    0.6,
                    0.7,
                    0.8,
                    0.9,
                    0.2,
                    0.4,
                    0.6,
                    0.8,
                    0.1,
                    0.3,
                    0.5,
                    0.7,
                    0.9,
                    0.2,
                    0.4,
                    0.6,
                    0.8,
                    0.1,
                    0.3,
                    0.5
                  ],
                  "y": [
                    0.2,
                    0.1,
                    0.3,
                    0.5,
                    0.7,
                    0.6,
                    0.4,
                    0.3,
                    0.4,
                    0.8,
                    0.9,
                    0.8,
                    0.7,
                    0.5,
                    0.4,
                    0.3,
                    0.2,
                    0.1,
                    0.1,
                    0.3,
                    0.5,
                    0.6,
                    0.8,
                    0.7,
                    0.6
                  ],
                  "z": [
                    0.3,
                    0.4,
                    0.1,
                    0.6,
                    0.8,
                    0.9,
                    0.7,
                    0.6,
                    0.4,
                    0.2,
                    0.4,
                    0.1,
                    0.2,
                    0.7,
                    0.9,
                    0.8,
                    0.5,
                    0.2,
                    0.5,
                    0.3,
                    0.2,
                    0.1,
                    0.5,
                    0.4,
                    0.3
                  ]
                }
              ],
              "layout": {
                "margin": {
                  "b": 0,
                  "l": 0,
                  "r": 0,
                  "t": 0
                },
                "paper_bgcolor": "black",
                "scene": {
                  "aspectmode": "data",
                  "aspectratio": {
                    "x": 1,
                    "y": 1,
                    "z": 1
                  },
                  "bgcolor": "black",
                  "camera": {
                    "up": {
                      "x": 0,
                      "y": 0,
                      "z": 1
                    }
                  },
                  "domain": {
                    "x": [
                      0,
                      0.45
                    ],
                    "y": [
                      0,
                      1
                    ]
                  },
                  "xaxis": {
                    "title": {
                      "text": "X"
                    }
                  },
                  "yaxis": {
                    "title": {
                      "text": "Y"
                    }
                  },
                  "zaxis": {
                    "title": {
                      "text": "Z"
                    }
                  }
                },
                "scene2": {
                  "domain": {
                    "x": [
                      0.55,
                      1
                    ],
                    "y": [
                      0,
                      1
                    ]
                  }
                },
                "template": {
                  "data": {
                    "scatter": [
                      {
                        "type": "scatter"
                      }
                    ]
                  }
                }
              }
            }
          },
          "metadata": {},
          "output_type": "display_data"
        },
        {
          "data": {
            "application/vnd.plotly.v1+json": {
              "config": {
                "plotlyServerURL": "https://plot.ly"
              },
              "data": [
                {
                  "marker": {
                    "color": "white",
                    "opacity": 1,
                    "size": 3
                  },
                  "mode": "markers",
                  "scene": "scene",
                  "type": "scatter3d",
                  "x": [
                    0.1,
                    0.2,
                    0.3,
                    0.4,
                    0.5,
                    0.6,
                    0.7,
                    0.8,
                    0.9,
                    0.2,
                    0.4,
                    0.6,
                    0.8,
                    0.1,
                    0.3,
                    0.5,
                    0.7,
                    0.9,
                    0.2,
                    0.4,
                    0.6,
                    0.8,
                    0.1,
                    0.3,
                    0.5
                  ],
                  "y": [
                    0.2,
                    0.1,
                    0.3,
                    0.5,
                    0.7,
                    0.6,
                    0.4,
                    0.3,
                    0.4,
                    0.8,
                    0.9,
                    0.8,
                    0.7,
                    0.5,
                    0.4,
                    0.3,
                    0.2,
                    0.1,
                    0.1,
                    0.3,
                    0.5,
                    0.6,
                    0.8,
                    0.7,
                    0.6
                  ],
                  "z": [
                    0.3,
                    0.4,
                    0.1,
                    0.6,
                    0.8,
                    0.9,
                    0.7,
                    0.6,
                    0.4,
                    0.2,
                    0.4,
                    0.1,
                    0.2,
                    0.7,
                    0.9,
                    0.8,
                    0.5,
                    0.2,
                    0.5,
                    0.3,
                    0.2,
                    0.1,
                    0.5,
                    0.4,
                    0.3
                  ]
                },
                {
                  "marker": {
                    "color": [
                      0,
                      0,
                      0,
                      1,
                      1,
                      1,
                      1,
                      1,
                      1,
                      2,
                      2,
                      2,
                      2,
                      1,
                      1,
                      1,
                      1,
                      1,
                      0,
                      0,
                      2,
                      2,
                      2,
                      2,
                      2
                    ],
                    "colorscale": [
                      [
                        0,
                        "white"
                      ],
                      [
                        0.16666666666666666,
                        "red"
                      ],
                      [
                        0.3333333333333333,
                        "yellow"
                      ],
                      [
                        0.5,
                        "green"
                      ],
                      [
                        0.6666666666666666,
                        "orange"
                      ],
                      [
                        0.8333333333333334,
                        "violet"
                      ],
                      [
                        1,
                        "blue"
                      ]
                    ],
                    "opacity": 1,
                    "size": 3
                  },
                  "mode": "markers",
                  "scene": "scene2",
                  "type": "scatter3d",
                  "x": [
                    0.1,
                    0.2,
                    0.3,
                    0.4,
                    0.5,
                    0.6,
                    0.7,
                    0.8,
                    0.9,
                    0.2,
                    0.4,
                    0.6,
                    0.8,
                    0.1,
                    0.3,
                    0.5,
                    0.7,
                    0.9,
                    0.2,
                    0.4,
                    0.6,
                    0.8,
                    0.1,
                    0.3,
                    0.5
                  ],
                  "y": [
                    0.2,
                    0.1,
                    0.3,
                    0.5,
                    0.7,
                    0.6,
                    0.4,
                    0.3,
                    0.4,
                    0.8,
                    0.9,
                    0.8,
                    0.7,
                    0.5,
                    0.4,
                    0.3,
                    0.2,
                    0.1,
                    0.1,
                    0.3,
                    0.5,
                    0.6,
                    0.8,
                    0.7,
                    0.6
                  ],
                  "z": [
                    0.3,
                    0.4,
                    0.1,
                    0.6,
                    0.8,
                    0.9,
                    0.7,
                    0.6,
                    0.4,
                    0.2,
                    0.4,
                    0.1,
                    0.2,
                    0.7,
                    0.9,
                    0.8,
                    0.5,
                    0.2,
                    0.5,
                    0.3,
                    0.2,
                    0.1,
                    0.5,
                    0.4,
                    0.3
                  ]
                }
              ],
              "layout": {
                "margin": {
                  "b": 0,
                  "l": 0,
                  "r": 0,
                  "t": 0
                },
                "paper_bgcolor": "black",
                "scene": {
                  "aspectmode": "data",
                  "aspectratio": {
                    "x": 1,
                    "y": 1,
                    "z": 1
                  },
                  "bgcolor": "black",
                  "camera": {
                    "up": {
                      "x": 0,
                      "y": 0,
                      "z": 1
                    }
                  },
                  "domain": {
                    "x": [
                      0,
                      0.45
                    ],
                    "y": [
                      0,
                      1
                    ]
                  },
                  "xaxis": {
                    "title": {
                      "text": "X"
                    }
                  },
                  "yaxis": {
                    "title": {
                      "text": "Y"
                    }
                  },
                  "zaxis": {
                    "title": {
                      "text": "Z"
                    }
                  }
                },
                "scene2": {
                  "domain": {
                    "x": [
                      0.55,
                      1
                    ],
                    "y": [
                      0,
                      1
                    ]
                  }
                },
                "template": {
                  "data": {
                    "scatter": [
                      {
                        "type": "scatter"
                      }
                    ]
                  }
                }
              }
            }
          },
          "metadata": {},
          "output_type": "display_data"
        },
        {
          "data": {
            "application/vnd.plotly.v1+json": {
              "config": {
                "plotlyServerURL": "https://plot.ly"
              },
              "data": [
                {
                  "marker": {
                    "color": "white",
                    "opacity": 1,
                    "size": 3
                  },
                  "mode": "markers",
                  "scene": "scene",
                  "type": "scatter3d",
                  "x": [
                    0.1,
                    0.2,
                    0.3,
                    0.4,
                    0.5,
                    0.6,
                    0.7,
                    0.8,
                    0.9,
                    0.2,
                    0.4,
                    0.6,
                    0.8,
                    0.1,
                    0.3,
                    0.5,
                    0.7,
                    0.9,
                    0.2,
                    0.4,
                    0.6,
                    0.8,
                    0.1,
                    0.3,
                    0.5
                  ],
                  "y": [
                    0.2,
                    0.1,
                    0.3,
                    0.5,
                    0.7,
                    0.6,
                    0.4,
                    0.3,
                    0.4,
                    0.8,
                    0.9,
                    0.8,
                    0.7,
                    0.5,
                    0.4,
                    0.3,
                    0.2,
                    0.1,
                    0.1,
                    0.3,
                    0.5,
                    0.6,
                    0.8,
                    0.7,
                    0.6
                  ],
                  "z": [
                    0.3,
                    0.4,
                    0.1,
                    0.6,
                    0.8,
                    0.9,
                    0.7,
                    0.6,
                    0.4,
                    0.2,
                    0.4,
                    0.1,
                    0.2,
                    0.7,
                    0.9,
                    0.8,
                    0.5,
                    0.2,
                    0.5,
                    0.3,
                    0.2,
                    0.1,
                    0.5,
                    0.4,
                    0.3
                  ]
                },
                {
                  "marker": {
                    "color": [
                      0,
                      0,
                      0,
                      1,
                      1,
                      1,
                      1,
                      1,
                      1,
                      2,
                      2,
                      2,
                      2,
                      1,
                      1,
                      1,
                      1,
                      1,
                      0,
                      0,
                      2,
                      2,
                      2,
                      2,
                      2
                    ],
                    "colorscale": [
                      [
                        0,
                        "white"
                      ],
                      [
                        0.16666666666666666,
                        "red"
                      ],
                      [
                        0.3333333333333333,
                        "yellow"
                      ],
                      [
                        0.5,
                        "green"
                      ],
                      [
                        0.6666666666666666,
                        "orange"
                      ],
                      [
                        0.8333333333333334,
                        "violet"
                      ],
                      [
                        1,
                        "blue"
                      ]
                    ],
                    "opacity": 1,
                    "size": 3
                  },
                  "mode": "markers",
                  "scene": "scene2",
                  "type": "scatter3d",
                  "x": [
                    0.1,
                    0.2,
                    0.3,
                    0.4,
                    0.5,
                    0.6,
                    0.7,
                    0.8,
                    0.9,
                    0.2,
                    0.4,
                    0.6,
                    0.8,
                    0.1,
                    0.3,
                    0.5,
                    0.7,
                    0.9,
                    0.2,
                    0.4,
                    0.6,
                    0.8,
                    0.1,
                    0.3,
                    0.5
                  ],
                  "y": [
                    0.2,
                    0.1,
                    0.3,
                    0.5,
                    0.7,
                    0.6,
                    0.4,
                    0.3,
                    0.4,
                    0.8,
                    0.9,
                    0.8,
                    0.7,
                    0.5,
                    0.4,
                    0.3,
                    0.2,
                    0.1,
                    0.1,
                    0.3,
                    0.5,
                    0.6,
                    0.8,
                    0.7,
                    0.6
                  ],
                  "z": [
                    0.3,
                    0.4,
                    0.1,
                    0.6,
                    0.8,
                    0.9,
                    0.7,
                    0.6,
                    0.4,
                    0.2,
                    0.4,
                    0.1,
                    0.2,
                    0.7,
                    0.9,
                    0.8,
                    0.5,
                    0.2,
                    0.5,
                    0.3,
                    0.2,
                    0.1,
                    0.5,
                    0.4,
                    0.3
                  ]
                }
              ],
              "layout": {
                "margin": {
                  "b": 0,
                  "l": 0,
                  "r": 0,
                  "t": 0
                },
                "paper_bgcolor": "black",
                "scene": {
                  "aspectmode": "data",
                  "aspectratio": {
                    "x": 1,
                    "y": 1,
                    "z": 1
                  },
                  "bgcolor": "black",
                  "camera": {
                    "up": {
                      "x": 0,
                      "y": 0,
                      "z": 1
                    }
                  },
                  "domain": {
                    "x": [
                      0,
                      0.45
                    ],
                    "y": [
                      0,
                      1
                    ]
                  },
                  "xaxis": {
                    "title": {
                      "text": "X"
                    }
                  },
                  "yaxis": {
                    "title": {
                      "text": "Y"
                    }
                  },
                  "zaxis": {
                    "title": {
                      "text": "Z"
                    }
                  }
                },
                "scene2": {
                  "domain": {
                    "x": [
                      0.55,
                      1
                    ],
                    "y": [
                      0,
                      1
                    ]
                  }
                },
                "template": {
                  "data": {
                    "scatter": [
                      {
                        "type": "scatter"
                      }
                    ]
                  }
                }
              }
            }
          },
          "metadata": {},
          "output_type": "display_data"
        }
      ],
      "source": [
        "path=\"../ds2.csv\"\n",
        "df = pd.read_csv(path, sep=\"\\t\", header=None)\n",
        "X, labels = df.iloc[:, :-1], df.iloc[:, -1]\n",
        "if(X.shape[1]==0):\n",
        "  df = pd.read_csv(path, sep=\",\", header=None)\n",
        "  X, labels = df.iloc[:, :-1], df.iloc[:, -1]\n",
        "if(X.shape[1]==0):\n",
        "  df = pd.read_csv(path, sep=\" \", header=None)\n",
        "  X, labels = df.iloc[:, :-1], df.iloc[:, -1]\n",
        " # if X.shape[1]==0:\n",
        " #   print(X)\n",
        "X, labels = np.array(X), np.array(labels)\n",
        "# print(X)\n",
        "K=len(set(labels))\n",
        "print(X) \n",
        "min_cluster=linkage(copy.copy(X),K,3)\n",
        "max_cluster=linkage(copy.copy(X),K,3)\n",
        "avg_cluster=linkage(copy.copy(X),K,3)\n",
        "originial_fig=plot(X,labels)\n",
        "max_linkage_fig=plot(X,max_cluster)\n",
        "min_linkage_fig=plot(X,min_cluster)\n",
        "avg_linkage_fig=plot(X,avg_cluster)\n",
        "originial_fig.show()\n",
        "originial_fig.write_html(\"cluster/\"+path[3:6]+\"original.html\")\n",
        "max_linkage_fig.show()\n",
        "max_linkage_fig.write_html(\"cluster/\"+path[3:6]+\"maxLinkage.html\")\n",
        "min_linkage_fig.show()\n",
        "min_linkage_fig.write_html(\"cluster/\"+path[3:6]+\"minLinkage.html\")\n",
        "avg_linkage_fig.show()\n",
        "avg_linkage_fig.write_html(\"cluster/\"+path[3:6]+\"avgLinkage.html\")"
      ]
    },
    {
      "cell_type": "code",
      "execution_count": 23,
      "metadata": {},
      "outputs": [
        {
          "name": "stdout",
          "output_type": "stream",
          "text": [
            "3\n"
          ]
        }
      ],
      "source": [
        "print(K)"
      ]
    }
  ],
  "metadata": {
    "colab": {
      "provenance": []
    },
    "kernelspec": {
      "display_name": "Python 3",
      "name": "python3"
    },
    "language_info": {
      "codemirror_mode": {
        "name": "ipython",
        "version": 3
      },
      "file_extension": ".py",
      "mimetype": "text/x-python",
      "name": "python",
      "nbconvert_exporter": "python",
      "pygments_lexer": "ipython3",
      "version": "3.8.3"
    }
  },
  "nbformat": 4,
  "nbformat_minor": 0
}
