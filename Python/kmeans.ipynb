{
  "cells": [
    {
      "cell_type": "code",
      "execution_count": 8,
      "metadata": {
        "id": "xNrKFiodGx8L"
      },
      "outputs": [],
      "source": [
        "import pandas as pd\n",
        "import numpy as np\n",
        "import math\n",
        "import matplotlib.pyplot as plt\n",
        "from scipy.spatial import distance\n",
        "from sklearn.cluster import KMeans"
      ]
    },
    {
      "cell_type": "code",
      "execution_count": 3,
      "metadata": {
        "id": "eiqZ2Nh0hL0s"
      },
      "outputs": [],
      "source": [
        "def my_kmeans(datasets, k, init_centroids=None, max_iterations = 10, isPlot=False):\n",
        "  N, f = datasets.shape\n",
        "  \n",
        "  # plot initial centroids which are selected randomly\n",
        "  if init_centroids == None:\n",
        "    datasets1 = np.array(datasets)\n",
        "    np.random.shuffle(datasets1)\n",
        "    init_centroids = datasets1[0:k, :]\n",
        "  else:\n",
        "    init_centroids = np.array(init_centroids)\n",
        "  \n",
        "  centroids = np.array(init_centroids)\n",
        "\n",
        "  if isPlot:\n",
        "    plt.title(\"Initial centroids\")\n",
        "    plt.scatter(datasets[:, 0], datasets[:, 1], s = 20)\n",
        "    plt.scatter(centroids[:, 0], centroids[:, 1], marker=\"*\", color = \"red\", s = 200)\n",
        "    plt.show()\n",
        "    \n",
        "  labels = np.zeros(N, dtype='int')\n",
        "\n",
        "  for iter_no in range(max_iterations): # iterates for maximum number of iterations\n",
        "    # assigning closest centeroid to each data point\n",
        "  \n",
        "    distances = distance.cdist(datasets, centroids)\n",
        "    labels = distances.argmin(axis=1)\n",
        "\n",
        "    # finding the new centroids by taking the mean value\n",
        "    if isPlot:\n",
        "      plt.title(\"result after iteration \" + str(iter_no))\n",
        "      plt.scatter(datasets[:, 0], datasets[:, 1], c=labels, s=20)\n",
        "      plt.scatter(centroids[:, 0], centroids[:, 1], marker = \"*\", s = 200, color = \"red\")\n",
        "    \n",
        "    new_centroids = np.zeros((k, f))\n",
        "    for cluster_no in range(k):\n",
        "      points = datasets[np.where(labels==cluster_no)]\n",
        "      new_centroids[cluster_no] = np.mean(points, axis = 0)\n",
        "\n",
        "    # scatter plot of each iteration\n",
        "    if isPlot:\n",
        "      plt.scatter(new_centroids[:, 0], new_centroids[:, 1], marker = \"o\", s = 100, color = \"blue\")\n",
        "      plt.show()\n",
        "    \n",
        "    # calculating difference between previous centroids and new centroids\n",
        "    diff = (new_centroids - centroids).sum()\n",
        "\n",
        "    centroids = new_centroids\n",
        "\n",
        "    # if there is no change in the previous centroids and new centroids then loop will terminated\n",
        "    if diff == 0:\n",
        "      break\n",
        "    \n",
        "  return labels, init_centroids, centroids"
      ]
    },
    {
      "cell_type": "code",
      "execution_count": 4,
      "metadata": {
        "colab": {
          "base_uri": "https://localhost:8080/"
        },
        "id": "x3427v1UN8_q",
        "outputId": "f691eb19-9c23-4580-cfef-b4ef1be15540"
      },
      "outputs": [],
      "source": [
        "def bisecting_kmeans(datasets, k):\n",
        "    clusters = {}\n",
        "    sse_values = {}\n",
        "\n",
        "    # Initialize the clusters with all data points\n",
        "    clusters[0] = datasets\n",
        "    sse_values[0] = np.inf\n",
        "\n",
        "    for i in range(1, k):\n",
        "        max_sse_cluster = None\n",
        "        max_sse_value = -np.inf\n",
        "\n",
        "        # Find the cluster with the highest SSE\n",
        "        for j in range(i):\n",
        "            sse = np.sum((clusters[j] - np.mean(clusters[j], axis=0)) ** 2)\n",
        "            if sse > max_sse_value:\n",
        "                max_sse_value = sse\n",
        "                max_sse_cluster = j\n",
        "\n",
        "        # Bisect the cluster with the highest SSE\n",
        "        cluster_to_bisect = clusters[max_sse_cluster]\n",
        "        labels, _, new_centroids = my_kmeans(cluster_to_bisect, 2, max_iterations=100)\n",
        "\n",
        "        # Update the clusters and SSE values\n",
        "        clusters[max_sse_cluster] = cluster_to_bisect[np.where(labels == 0)]\n",
        "        clusters[i] = cluster_to_bisect[np.where(labels == 1)]\n",
        "        sse_values[max_sse_cluster] = np.sum((clusters[max_sse_cluster] - np.mean(clusters[max_sse_cluster], axis=0)) ** 2)\n",
        "        sse_values[i] = np.sum((clusters[i] - np.mean(clusters[i], axis=0)) ** 2)\n",
        "\n",
        "    # Find the final centroids and cluster labels\n",
        "    # centroids = np.zeros((k, datasets.shape[1]))\n",
        "    # for i in range(k):\n",
        "    #     centroids[i] = np.mean(clusters[i], axis=0)\n",
        "\n",
        "    labels=[0]*len(datasets)\n",
        "    for i in range(0,k):\n",
        "      for c in clusters[i]:\n",
        "        idx=np.where(datasets==c)[0][0]\n",
        "        labels[idx]=i\n",
        "    return labels"
      ]
    },
    {
      "cell_type": "code",
      "execution_count": 5,
      "metadata": {
        "id": "1mfc2K7QvVNB"
      },
      "outputs": [],
      "source": [
        "def kmeans_pp(datasets, k):\n",
        "    N, f = datasets.shape\n",
        "    \n",
        "    # randomly select the first centroid\n",
        "    centroids = [datasets[np.random.choice(N)]]\n",
        "    \n",
        "    # repeat for k-1 more centroids\n",
        "    for i in range(k-1):\n",
        "        # calculate distances from the last selected centroid\n",
        "        distances = distance.cdist(datasets, [centroids[-1]])\n",
        "        \n",
        "        # find the minimum distance for each point\n",
        "        min_distances = np.min(distances, axis=1)\n",
        "        \n",
        "        # select the next centroid with probability proportional to square distance\n",
        "        probs = min_distances**2 / np.sum(min_distances**2)\n",
        "        idx = np.random.choice(N, p=probs)\n",
        "        centroids.append(datasets[idx])\n",
        "    \n",
        "    labels,initial_centroids,centroids=my_kmeans(datasets,k,centroids)\n",
        "    # clusters=[]\n",
        "    # for i in range(k):\n",
        "    #   c=datasets[np.where(labels==i)]\n",
        "    #   clusters.append(c)\n",
        "    return labels"
      ]
    },
    {
      "cell_type": "code",
      "execution_count": 6,
      "metadata": {},
      "outputs": [],
      "source": [
        "import plotly.graph_objs as go\n",
        "from plotly.subplots import make_subplots\n",
        "import numpy as np\n",
        "\n",
        "def plot(datasets, labels):\n",
        "    #colour pattern\n",
        "    colorscale = ['white','red','yellow','green','orange','violet','blue']\n",
        "\n",
        "    # Define the layout for the plot\n",
        "    layout = go.Layout(\n",
        "        margin=dict(l=0, r=0, b=0, t=0),\n",
        "        scene=dict(\n",
        "            xaxis=dict(title='X'),\n",
        "            yaxis=dict(title='Y'),\n",
        "            zaxis=dict(title='Z'),\n",
        "            aspectmode='data',\n",
        "            aspectratio=dict(x=1, y=1, z=1),\n",
        "            bgcolor='black',\n",
        "           \n",
        "            camera=dict(\n",
        "                up=dict(x=0, y=0, z=1),\n",
        "            ),\n",
        "        ),\n",
        "        paper_bgcolor='black',\n",
        "    )\n",
        "\n",
        "    #figure 1\n",
        "    trace = go.Scatter3d(\n",
        "        x=datasets[:, 0],\n",
        "        y=datasets[:, 1],\n",
        "        z=datasets[:, 2],\n",
        "        mode='markers',\n",
        "        marker=dict(\n",
        "            color=\"white\",\n",
        "            size=3,\n",
        "            opacity=1,\n",
        "            \n",
        "        ),\n",
        "    )\n",
        "\n",
        "    #figure 2\n",
        "    trace1 = go.Scatter3d(\n",
        "        x=datasets[:,0],\n",
        "        y=datasets[:,1],\n",
        "        z=datasets[:,2],\n",
        "        mode='markers',\n",
        "        marker=dict(\n",
        "            color=labels,\n",
        "            colorscale=colorscale,\n",
        "            size=3,\n",
        "            opacity=1,\n",
        "            \n",
        "        ),\n",
        "    )\n",
        "\n",
        "    #figure 3\n",
        "    # dataset=datasets[np.where(labels!=-1)]\n",
        "    # label=labels[np.where(labels!=-1)]\n",
        "    # colorscale=colorscale[1:]\n",
        "    # trace2 = go.Scatter3d(\n",
        "    #     x=dataset[:,0],\n",
        "    #     y=dataset[:,1],\n",
        "    #     z=dataset[:,2],\n",
        "    #     mode='markers',\n",
        "    #     marker=dict(\n",
        "    #         color=label,\n",
        "    #         colorscale=colorscale,\n",
        "    #         size=1,\n",
        "    #         opacity=1,\n",
        "            \n",
        "    #     ),\n",
        "    # )\n",
        "    fig = make_subplots(rows=1, cols=2, specs=[[{'type': 'scatter3d'}]*2]*1)\n",
        "    fig.update_layout(layout)\n",
        "\n",
        "    fig.add_trace(trace, row=1, col=1)\n",
        "    fig.add_trace(trace1, row=1, col=2)\n",
        "    # fig.add_trace(trace2, row=1, col=3)\n",
        "    \n",
        "    for template in [\"plotly\", \"plotly_white\", \"plotly_dark\", \"ggplot2\", \"seaborn\", \"simple_white\", \"none\"]:\n",
        "        fig.update_layout(template=template)\n",
        "    fig.show()    \n",
        "    return fig\n",
        "\n",
        "\n",
        "\n",
        "\n"
      ]
    },
    {
      "cell_type": "code",
      "execution_count": 9,
      "metadata": {
        "colab": {
          "base_uri": "https://localhost:8080/"
        },
        "id": "s8OP15nnFwOd",
        "outputId": "aec94ad7-7ce3-4dfd-a80b-342f9382bb84"
      },
      "outputs": [
        {
          "name": "stderr",
          "output_type": "stream",
          "text": [
            "c:\\Users\\HP\\AppData\\Local\\Programs\\Python\\Python38\\lib\\site-packages\\sklearn\\cluster\\_kmeans.py:870: FutureWarning:\n",
            "\n",
            "The default value of `n_init` will change from 10 to 'auto' in 1.4. Set the value of `n_init` explicitly to suppress the warning\n",
            "\n"
          ]
        },
        {
          "name": "stdout",
          "output_type": "stream",
          "text": [
            "KMeans(n_clusters=3, random_state=0)\n"
          ]
        },
        {
          "data": {
            "application/vnd.plotly.v1+json": {
              "config": {
                "plotlyServerURL": "https://plot.ly"
              },
              "data": [
                {
                  "marker": {
                    "color": "white",
                    "opacity": 1,
                    "size": 3
                  },
                  "mode": "markers",
                  "scene": "scene",
                  "type": "scatter3d",
                  "x": [
                    0.5,
                    0.4,
                    0.6,
                    0.7,
                    0.3,
                    15,
                    20,
                    10,
                    18,
                    25,
                    30,
                    28,
                    40,
                    45,
                    50,
                    55,
                    60,
                    2,
                    3,
                    4,
                    50,
                    55,
                    60,
                    70,
                    75,
                    80
                  ],
                  "y": [
                    1.5,
                    1.4,
                    1.6,
                    1.7,
                    1.3,
                    25,
                    30,
                    20,
                    23,
                    10,
                    20,
                    23,
                    50,
                    55,
                    60,
                    45,
                    50,
                    2,
                    3,
                    4,
                    50,
                    55,
                    60,
                    70,
                    75,
                    80
                  ],
                  "z": [
                    0.5,
                    0.4,
                    0.6,
                    0.7,
                    0.3,
                    30,
                    25,
                    15,
                    28,
                    30,
                    10,
                    18,
                    60,
                    50,
                    45,
                    50,
                    55,
                    2,
                    3,
                    4,
                    50,
                    55,
                    60,
                    70,
                    75,
                    80
                  ]
                },
                {
                  "marker": {
                    "color": [
                      2,
                      2,
                      2,
                      2,
                      2,
                      0,
                      0,
                      0,
                      0,
                      0,
                      0,
                      0,
                      1,
                      1,
                      1,
                      0,
                      0,
                      2,
                      2,
                      2,
                      0,
                      0,
                      0,
                      1,
                      1,
                      1
                    ],
                    "colorscale": [
                      [
                        0,
                        "white"
                      ],
                      [
                        0.16666666666666666,
                        "red"
                      ],
                      [
                        0.3333333333333333,
                        "yellow"
                      ],
                      [
                        0.5,
                        "green"
                      ],
                      [
                        0.6666666666666666,
                        "orange"
                      ],
                      [
                        0.8333333333333334,
                        "violet"
                      ],
                      [
                        1,
                        "blue"
                      ]
                    ],
                    "opacity": 1,
                    "size": 3
                  },
                  "mode": "markers",
                  "scene": "scene2",
                  "type": "scatter3d",
                  "x": [
                    0.5,
                    0.4,
                    0.6,
                    0.7,
                    0.3,
                    15,
                    20,
                    10,
                    18,
                    25,
                    30,
                    28,
                    40,
                    45,
                    50,
                    55,
                    60,
                    2,
                    3,
                    4,
                    50,
                    55,
                    60,
                    70,
                    75,
                    80
                  ],
                  "y": [
                    1.5,
                    1.4,
                    1.6,
                    1.7,
                    1.3,
                    25,
                    30,
                    20,
                    23,
                    10,
                    20,
                    23,
                    50,
                    55,
                    60,
                    45,
                    50,
                    2,
                    3,
                    4,
                    50,
                    55,
                    60,
                    70,
                    75,
                    80
                  ],
                  "z": [
                    0.5,
                    0.4,
                    0.6,
                    0.7,
                    0.3,
                    30,
                    25,
                    15,
                    28,
                    30,
                    10,
                    18,
                    60,
                    50,
                    45,
                    50,
                    55,
                    2,
                    3,
                    4,
                    50,
                    55,
                    60,
                    70,
                    75,
                    80
                  ]
                }
              ],
              "layout": {
                "margin": {
                  "b": 0,
                  "l": 0,
                  "r": 0,
                  "t": 0
                },
                "paper_bgcolor": "black",
                "scene": {
                  "aspectmode": "data",
                  "aspectratio": {
                    "x": 1,
                    "y": 1,
                    "z": 1
                  },
                  "bgcolor": "black",
                  "camera": {
                    "up": {
                      "x": 0,
                      "y": 0,
                      "z": 1
                    }
                  },
                  "domain": {
                    "x": [
                      0,
                      0.45
                    ],
                    "y": [
                      0,
                      1
                    ]
                  },
                  "xaxis": {
                    "title": {
                      "text": "X"
                    }
                  },
                  "yaxis": {
                    "title": {
                      "text": "Y"
                    }
                  },
                  "zaxis": {
                    "title": {
                      "text": "Z"
                    }
                  }
                },
                "scene2": {
                  "domain": {
                    "x": [
                      0.55,
                      1
                    ],
                    "y": [
                      0,
                      1
                    ]
                  }
                },
                "template": {
                  "data": {
                    "scatter": [
                      {
                        "type": "scatter"
                      }
                    ]
                  }
                }
              }
            }
          },
          "metadata": {},
          "output_type": "display_data"
        },
        {
          "data": {
            "application/vnd.plotly.v1+json": {
              "config": {
                "plotlyServerURL": "https://plot.ly"
              },
              "data": [
                {
                  "marker": {
                    "color": "white",
                    "opacity": 1,
                    "size": 3
                  },
                  "mode": "markers",
                  "scene": "scene",
                  "type": "scatter3d",
                  "x": [
                    0.5,
                    0.4,
                    0.6,
                    0.7,
                    0.3,
                    15,
                    20,
                    10,
                    18,
                    25,
                    30,
                    28,
                    40,
                    45,
                    50,
                    55,
                    60,
                    2,
                    3,
                    4,
                    50,
                    55,
                    60,
                    70,
                    75,
                    80
                  ],
                  "y": [
                    1.5,
                    1.4,
                    1.6,
                    1.7,
                    1.3,
                    25,
                    30,
                    20,
                    23,
                    10,
                    20,
                    23,
                    50,
                    55,
                    60,
                    45,
                    50,
                    2,
                    3,
                    4,
                    50,
                    55,
                    60,
                    70,
                    75,
                    80
                  ],
                  "z": [
                    0.5,
                    0.4,
                    0.6,
                    0.7,
                    0.3,
                    30,
                    25,
                    15,
                    28,
                    30,
                    10,
                    18,
                    60,
                    50,
                    45,
                    50,
                    55,
                    2,
                    3,
                    4,
                    50,
                    55,
                    60,
                    70,
                    75,
                    80
                  ]
                },
                {
                  "marker": {
                    "color": [
                      0,
                      0,
                      0,
                      0,
                      0,
                      2,
                      2,
                      2,
                      2,
                      2,
                      2,
                      2,
                      1,
                      1,
                      1,
                      1,
                      1,
                      0,
                      0,
                      0,
                      1,
                      1,
                      1,
                      1,
                      1,
                      1
                    ],
                    "colorscale": [
                      [
                        0,
                        "white"
                      ],
                      [
                        0.16666666666666666,
                        "red"
                      ],
                      [
                        0.3333333333333333,
                        "yellow"
                      ],
                      [
                        0.5,
                        "green"
                      ],
                      [
                        0.6666666666666666,
                        "orange"
                      ],
                      [
                        0.8333333333333334,
                        "violet"
                      ],
                      [
                        1,
                        "blue"
                      ]
                    ],
                    "opacity": 1,
                    "size": 3
                  },
                  "mode": "markers",
                  "scene": "scene2",
                  "type": "scatter3d",
                  "x": [
                    0.5,
                    0.4,
                    0.6,
                    0.7,
                    0.3,
                    15,
                    20,
                    10,
                    18,
                    25,
                    30,
                    28,
                    40,
                    45,
                    50,
                    55,
                    60,
                    2,
                    3,
                    4,
                    50,
                    55,
                    60,
                    70,
                    75,
                    80
                  ],
                  "y": [
                    1.5,
                    1.4,
                    1.6,
                    1.7,
                    1.3,
                    25,
                    30,
                    20,
                    23,
                    10,
                    20,
                    23,
                    50,
                    55,
                    60,
                    45,
                    50,
                    2,
                    3,
                    4,
                    50,
                    55,
                    60,
                    70,
                    75,
                    80
                  ],
                  "z": [
                    0.5,
                    0.4,
                    0.6,
                    0.7,
                    0.3,
                    30,
                    25,
                    15,
                    28,
                    30,
                    10,
                    18,
                    60,
                    50,
                    45,
                    50,
                    55,
                    2,
                    3,
                    4,
                    50,
                    55,
                    60,
                    70,
                    75,
                    80
                  ]
                }
              ],
              "layout": {
                "margin": {
                  "b": 0,
                  "l": 0,
                  "r": 0,
                  "t": 0
                },
                "paper_bgcolor": "black",
                "scene": {
                  "aspectmode": "data",
                  "aspectratio": {
                    "x": 1,
                    "y": 1,
                    "z": 1
                  },
                  "bgcolor": "black",
                  "camera": {
                    "up": {
                      "x": 0,
                      "y": 0,
                      "z": 1
                    }
                  },
                  "domain": {
                    "x": [
                      0,
                      0.45
                    ],
                    "y": [
                      0,
                      1
                    ]
                  },
                  "xaxis": {
                    "title": {
                      "text": "X"
                    }
                  },
                  "yaxis": {
                    "title": {
                      "text": "Y"
                    }
                  },
                  "zaxis": {
                    "title": {
                      "text": "Z"
                    }
                  }
                },
                "scene2": {
                  "domain": {
                    "x": [
                      0.55,
                      1
                    ],
                    "y": [
                      0,
                      1
                    ]
                  }
                },
                "template": {
                  "data": {
                    "scatter": [
                      {
                        "type": "scatter"
                      }
                    ]
                  }
                }
              }
            }
          },
          "metadata": {},
          "output_type": "display_data"
        },
        {
          "ename": "ValueError",
          "evalue": "\n    Invalid value of type 'sklearn.cluster._kmeans.KMeans' received for the 'color' property of scatter3d.marker\n        Received value: KMeans(n_clusters=3, random_state=0)\n\n    The 'color' property is a color and may be specified as:\n      - A hex string (e.g. '#ff0000')\n      - An rgb/rgba string (e.g. 'rgb(255,0,0)')\n      - An hsl/hsla string (e.g. 'hsl(0,100%,50%)')\n      - An hsv/hsva string (e.g. 'hsv(0,100%,100%)')\n      - A named CSS color:\n            aliceblue, antiquewhite, aqua, aquamarine, azure,\n            beige, bisque, black, blanchedalmond, blue,\n            blueviolet, brown, burlywood, cadetblue,\n            chartreuse, chocolate, coral, cornflowerblue,\n            cornsilk, crimson, cyan, darkblue, darkcyan,\n            darkgoldenrod, darkgray, darkgrey, darkgreen,\n            darkkhaki, darkmagenta, darkolivegreen, darkorange,\n            darkorchid, darkred, darksalmon, darkseagreen,\n            darkslateblue, darkslategray, darkslategrey,\n            darkturquoise, darkviolet, deeppink, deepskyblue,\n            dimgray, dimgrey, dodgerblue, firebrick,\n            floralwhite, forestgreen, fuchsia, gainsboro,\n            ghostwhite, gold, goldenrod, gray, grey, green,\n            greenyellow, honeydew, hotpink, indianred, indigo,\n            ivory, khaki, lavender, lavenderblush, lawngreen,\n            lemonchiffon, lightblue, lightcoral, lightcyan,\n            lightgoldenrodyellow, lightgray, lightgrey,\n            lightgreen, lightpink, lightsalmon, lightseagreen,\n            lightskyblue, lightslategray, lightslategrey,\n            lightsteelblue, lightyellow, lime, limegreen,\n            linen, magenta, maroon, mediumaquamarine,\n            mediumblue, mediumorchid, mediumpurple,\n            mediumseagreen, mediumslateblue, mediumspringgreen,\n            mediumturquoise, mediumvioletred, midnightblue,\n            mintcream, mistyrose, moccasin, navajowhite, navy,\n            oldlace, olive, olivedrab, orange, orangered,\n            orchid, palegoldenrod, palegreen, paleturquoise,\n            palevioletred, papayawhip, peachpuff, peru, pink,\n            plum, powderblue, purple, red, rosybrown,\n            royalblue, rebeccapurple, saddlebrown, salmon,\n            sandybrown, seagreen, seashell, sienna, silver,\n            skyblue, slateblue, slategray, slategrey, snow,\n            springgreen, steelblue, tan, teal, thistle, tomato,\n            turquoise, violet, wheat, white, whitesmoke,\n            yellow, yellowgreen\n      - A number that will be interpreted as a color\n        according to scatter3d.marker.colorscale\n      - A list or array of any of the above",
          "output_type": "error",
          "traceback": [
            "\u001b[1;31m---------------------------------------------------------------------------\u001b[0m",
            "\u001b[1;31mValueError\u001b[0m                                Traceback (most recent call last)",
            "Cell \u001b[1;32mIn[9], line 25\u001b[0m\n\u001b[0;32m     23\u001b[0m bisecting_fig\u001b[39m=\u001b[39mplot(X,bisecting_labels)\n\u001b[0;32m     24\u001b[0m kmeans_pp_fig\u001b[39m=\u001b[39mplot(X,kmeans_pp_labels)\n\u001b[1;32m---> 25\u001b[0m kmeans_fig\u001b[39m=\u001b[39mplot(X,kmeans_labels)\n\u001b[0;32m     26\u001b[0m bisecting_fig\u001b[39m.\u001b[39mwrite_html(\u001b[39m'\u001b[39m\u001b[39mcluster/\u001b[39m\u001b[39m'\u001b[39m\u001b[39m+\u001b[39mpath[\u001b[39m3\u001b[39m:\u001b[39m6\u001b[39m]\u001b[39m+\u001b[39m\u001b[39m'\u001b[39m\u001b[39mbisecting.html\u001b[39m\u001b[39m'\u001b[39m)\n\u001b[0;32m     27\u001b[0m kmeans_fig\u001b[39m.\u001b[39mwrite_html(\u001b[39m'\u001b[39m\u001b[39mcluster/\u001b[39m\u001b[39m'\u001b[39m\u001b[39m+\u001b[39mpath[\u001b[39m3\u001b[39m:\u001b[39m6\u001b[39m]\u001b[39m+\u001b[39m\u001b[39m'\u001b[39m\u001b[39mkmeans.html\u001b[39m\u001b[39m'\u001b[39m)\n",
            "Cell \u001b[1;32mIn[6], line 42\u001b[0m, in \u001b[0;36mplot\u001b[1;34m(datasets, labels)\u001b[0m\n\u001b[0;32m     28\u001b[0m trace \u001b[39m=\u001b[39m go\u001b[39m.\u001b[39mScatter3d(\n\u001b[0;32m     29\u001b[0m     x\u001b[39m=\u001b[39mdatasets[:, \u001b[39m0\u001b[39m],\n\u001b[0;32m     30\u001b[0m     y\u001b[39m=\u001b[39mdatasets[:, \u001b[39m1\u001b[39m],\n\u001b[1;32m   (...)\u001b[0m\n\u001b[0;32m     38\u001b[0m     ),\n\u001b[0;32m     39\u001b[0m )\n\u001b[0;32m     41\u001b[0m \u001b[39m#figure 2\u001b[39;00m\n\u001b[1;32m---> 42\u001b[0m trace1 \u001b[39m=\u001b[39m go\u001b[39m.\u001b[39;49mScatter3d(\n\u001b[0;32m     43\u001b[0m     x\u001b[39m=\u001b[39;49mdatasets[:,\u001b[39m0\u001b[39;49m],\n\u001b[0;32m     44\u001b[0m     y\u001b[39m=\u001b[39;49mdatasets[:,\u001b[39m1\u001b[39;49m],\n\u001b[0;32m     45\u001b[0m     z\u001b[39m=\u001b[39;49mdatasets[:,\u001b[39m2\u001b[39;49m],\n\u001b[0;32m     46\u001b[0m     mode\u001b[39m=\u001b[39;49m\u001b[39m'\u001b[39;49m\u001b[39mmarkers\u001b[39;49m\u001b[39m'\u001b[39;49m,\n\u001b[0;32m     47\u001b[0m     marker\u001b[39m=\u001b[39;49m\u001b[39mdict\u001b[39;49m(\n\u001b[0;32m     48\u001b[0m         color\u001b[39m=\u001b[39;49mlabels,\n\u001b[0;32m     49\u001b[0m         colorscale\u001b[39m=\u001b[39;49mcolorscale,\n\u001b[0;32m     50\u001b[0m         size\u001b[39m=\u001b[39;49m\u001b[39m3\u001b[39;49m,\n\u001b[0;32m     51\u001b[0m         opacity\u001b[39m=\u001b[39;49m\u001b[39m1\u001b[39;49m,\n\u001b[0;32m     52\u001b[0m         \n\u001b[0;32m     53\u001b[0m     ),\n\u001b[0;32m     54\u001b[0m )\n\u001b[0;32m     56\u001b[0m \u001b[39m#figure 3\u001b[39;00m\n\u001b[0;32m     57\u001b[0m \u001b[39m# dataset=datasets[np.where(labels!=-1)]\u001b[39;00m\n\u001b[0;32m     58\u001b[0m \u001b[39m# label=labels[np.where(labels!=-1)]\u001b[39;00m\n\u001b[1;32m   (...)\u001b[0m\n\u001b[0;32m     71\u001b[0m \u001b[39m#     ),\u001b[39;00m\n\u001b[0;32m     72\u001b[0m \u001b[39m# )\u001b[39;00m\n\u001b[0;32m     73\u001b[0m fig \u001b[39m=\u001b[39m make_subplots(rows\u001b[39m=\u001b[39m\u001b[39m1\u001b[39m, cols\u001b[39m=\u001b[39m\u001b[39m2\u001b[39m, specs\u001b[39m=\u001b[39m[[{\u001b[39m'\u001b[39m\u001b[39mtype\u001b[39m\u001b[39m'\u001b[39m: \u001b[39m'\u001b[39m\u001b[39mscatter3d\u001b[39m\u001b[39m'\u001b[39m}]\u001b[39m*\u001b[39m\u001b[39m2\u001b[39m]\u001b[39m*\u001b[39m\u001b[39m1\u001b[39m)\n",
            "File \u001b[1;32mc:\\Users\\HP\\AppData\\Local\\Programs\\Python\\Python38\\lib\\site-packages\\plotly\\graph_objs\\_scatter3d.py:2627\u001b[0m, in \u001b[0;36mScatter3d.__init__\u001b[1;34m(self, arg, connectgaps, customdata, customdatasrc, error_x, error_y, error_z, hoverinfo, hoverinfosrc, hoverlabel, hovertemplate, hovertemplatesrc, hovertext, hovertextsrc, ids, idssrc, legendgroup, legendgrouptitle, legendrank, legendwidth, line, marker, meta, metasrc, mode, name, opacity, projection, scene, showlegend, stream, surfaceaxis, surfacecolor, text, textfont, textposition, textpositionsrc, textsrc, texttemplate, texttemplatesrc, uid, uirevision, visible, x, xcalendar, xhoverformat, xsrc, y, ycalendar, yhoverformat, ysrc, z, zcalendar, zhoverformat, zsrc, **kwargs)\u001b[0m\n\u001b[0;32m   2625\u001b[0m _v \u001b[39m=\u001b[39m marker \u001b[39mif\u001b[39;00m marker \u001b[39mis\u001b[39;00m \u001b[39mnot\u001b[39;00m \u001b[39mNone\u001b[39;00m \u001b[39melse\u001b[39;00m _v\n\u001b[0;32m   2626\u001b[0m \u001b[39mif\u001b[39;00m _v \u001b[39mis\u001b[39;00m \u001b[39mnot\u001b[39;00m \u001b[39mNone\u001b[39;00m:\n\u001b[1;32m-> 2627\u001b[0m     \u001b[39mself\u001b[39;49m[\u001b[39m\"\u001b[39;49m\u001b[39mmarker\u001b[39;49m\u001b[39m\"\u001b[39;49m] \u001b[39m=\u001b[39m _v\n\u001b[0;32m   2628\u001b[0m _v \u001b[39m=\u001b[39m arg\u001b[39m.\u001b[39mpop(\u001b[39m\"\u001b[39m\u001b[39mmeta\u001b[39m\u001b[39m\"\u001b[39m, \u001b[39mNone\u001b[39;00m)\n\u001b[0;32m   2629\u001b[0m _v \u001b[39m=\u001b[39m meta \u001b[39mif\u001b[39;00m meta \u001b[39mis\u001b[39;00m \u001b[39mnot\u001b[39;00m \u001b[39mNone\u001b[39;00m \u001b[39melse\u001b[39;00m _v\n",
            "File \u001b[1;32mc:\\Users\\HP\\AppData\\Local\\Programs\\Python\\Python38\\lib\\site-packages\\plotly\\basedatatypes.py:4842\u001b[0m, in \u001b[0;36mBasePlotlyType.__setitem__\u001b[1;34m(self, prop, value)\u001b[0m\n\u001b[0;32m   4840\u001b[0m \u001b[39m# ### Handle compound property ###\u001b[39;00m\n\u001b[0;32m   4841\u001b[0m \u001b[39mif\u001b[39;00m \u001b[39misinstance\u001b[39m(validator, CompoundValidator):\n\u001b[1;32m-> 4842\u001b[0m     \u001b[39mself\u001b[39;49m\u001b[39m.\u001b[39;49m_set_compound_prop(prop, value)\n\u001b[0;32m   4844\u001b[0m \u001b[39m# ### Handle compound array property ###\u001b[39;00m\n\u001b[0;32m   4845\u001b[0m \u001b[39melif\u001b[39;00m \u001b[39misinstance\u001b[39m(validator, (CompoundArrayValidator, BaseDataValidator)):\n",
            "File \u001b[1;32mc:\\Users\\HP\\AppData\\Local\\Programs\\Python\\Python38\\lib\\site-packages\\plotly\\basedatatypes.py:5253\u001b[0m, in \u001b[0;36mBasePlotlyType._set_compound_prop\u001b[1;34m(self, prop, val)\u001b[0m\n\u001b[0;32m   5250\u001b[0m \u001b[39m# Import value\u001b[39;00m\n\u001b[0;32m   5251\u001b[0m \u001b[39m# ------------\u001b[39;00m\n\u001b[0;32m   5252\u001b[0m validator \u001b[39m=\u001b[39m \u001b[39mself\u001b[39m\u001b[39m.\u001b[39m_get_validator(prop)\n\u001b[1;32m-> 5253\u001b[0m val \u001b[39m=\u001b[39m validator\u001b[39m.\u001b[39;49mvalidate_coerce(val, skip_invalid\u001b[39m=\u001b[39;49m\u001b[39mself\u001b[39;49m\u001b[39m.\u001b[39;49m_skip_invalid)\n\u001b[0;32m   5255\u001b[0m \u001b[39m# Save deep copies of current and new states\u001b[39;00m\n\u001b[0;32m   5256\u001b[0m \u001b[39m# ------------------------------------------\u001b[39;00m\n\u001b[0;32m   5257\u001b[0m curr_val \u001b[39m=\u001b[39m \u001b[39mself\u001b[39m\u001b[39m.\u001b[39m_compound_props\u001b[39m.\u001b[39mget(prop, \u001b[39mNone\u001b[39;00m)\n",
            "File \u001b[1;32mc:\\Users\\HP\\AppData\\Local\\Programs\\Python\\Python38\\lib\\site-packages\\_plotly_utils\\basevalidators.py:2476\u001b[0m, in \u001b[0;36mCompoundValidator.validate_coerce\u001b[1;34m(self, v, skip_invalid, _validate)\u001b[0m\n\u001b[0;32m   2473\u001b[0m     v \u001b[39m=\u001b[39m \u001b[39mself\u001b[39m\u001b[39m.\u001b[39mdata_class()\n\u001b[0;32m   2475\u001b[0m \u001b[39melif\u001b[39;00m \u001b[39misinstance\u001b[39m(v, \u001b[39mdict\u001b[39m):\n\u001b[1;32m-> 2476\u001b[0m     v \u001b[39m=\u001b[39m \u001b[39mself\u001b[39;49m\u001b[39m.\u001b[39;49mdata_class(v, skip_invalid\u001b[39m=\u001b[39;49mskip_invalid, _validate\u001b[39m=\u001b[39;49m_validate)\n\u001b[0;32m   2478\u001b[0m \u001b[39melif\u001b[39;00m \u001b[39misinstance\u001b[39m(v, \u001b[39mself\u001b[39m\u001b[39m.\u001b[39mdata_class):\n\u001b[0;32m   2479\u001b[0m     \u001b[39m# Copy object\u001b[39;00m\n\u001b[0;32m   2480\u001b[0m     v \u001b[39m=\u001b[39m \u001b[39mself\u001b[39m\u001b[39m.\u001b[39mdata_class(v)\n",
            "File \u001b[1;32mc:\\Users\\HP\\AppData\\Local\\Programs\\Python\\Python38\\lib\\site-packages\\plotly\\graph_objs\\scatter3d\\_marker.py:1247\u001b[0m, in \u001b[0;36mMarker.__init__\u001b[1;34m(self, arg, autocolorscale, cauto, cmax, cmid, cmin, color, coloraxis, colorbar, colorscale, colorsrc, line, opacity, reversescale, showscale, size, sizemin, sizemode, sizeref, sizesrc, symbol, symbolsrc, **kwargs)\u001b[0m\n\u001b[0;32m   1245\u001b[0m _v \u001b[39m=\u001b[39m color \u001b[39mif\u001b[39;00m color \u001b[39mis\u001b[39;00m \u001b[39mnot\u001b[39;00m \u001b[39mNone\u001b[39;00m \u001b[39melse\u001b[39;00m _v\n\u001b[0;32m   1246\u001b[0m \u001b[39mif\u001b[39;00m _v \u001b[39mis\u001b[39;00m \u001b[39mnot\u001b[39;00m \u001b[39mNone\u001b[39;00m:\n\u001b[1;32m-> 1247\u001b[0m     \u001b[39mself\u001b[39;49m[\u001b[39m\"\u001b[39;49m\u001b[39mcolor\u001b[39;49m\u001b[39m\"\u001b[39;49m] \u001b[39m=\u001b[39m _v\n\u001b[0;32m   1248\u001b[0m _v \u001b[39m=\u001b[39m arg\u001b[39m.\u001b[39mpop(\u001b[39m\"\u001b[39m\u001b[39mcoloraxis\u001b[39m\u001b[39m\"\u001b[39m, \u001b[39mNone\u001b[39;00m)\n\u001b[0;32m   1249\u001b[0m _v \u001b[39m=\u001b[39m coloraxis \u001b[39mif\u001b[39;00m coloraxis \u001b[39mis\u001b[39;00m \u001b[39mnot\u001b[39;00m \u001b[39mNone\u001b[39;00m \u001b[39melse\u001b[39;00m _v\n",
            "File \u001b[1;32mc:\\Users\\HP\\AppData\\Local\\Programs\\Python\\Python38\\lib\\site-packages\\plotly\\basedatatypes.py:4850\u001b[0m, in \u001b[0;36mBasePlotlyType.__setitem__\u001b[1;34m(self, prop, value)\u001b[0m\n\u001b[0;32m   4846\u001b[0m         \u001b[39mself\u001b[39m\u001b[39m.\u001b[39m_set_array_prop(prop, value)\n\u001b[0;32m   4848\u001b[0m     \u001b[39m# ### Handle simple property ###\u001b[39;00m\n\u001b[0;32m   4849\u001b[0m     \u001b[39melse\u001b[39;00m:\n\u001b[1;32m-> 4850\u001b[0m         \u001b[39mself\u001b[39;49m\u001b[39m.\u001b[39;49m_set_prop(prop, value)\n\u001b[0;32m   4851\u001b[0m \u001b[39melse\u001b[39;00m:\n\u001b[0;32m   4852\u001b[0m     \u001b[39m# Make sure properties dict is initialized\u001b[39;00m\n\u001b[0;32m   4853\u001b[0m     \u001b[39mself\u001b[39m\u001b[39m.\u001b[39m_init_props()\n",
            "File \u001b[1;32mc:\\Users\\HP\\AppData\\Local\\Programs\\Python\\Python38\\lib\\site-packages\\plotly\\basedatatypes.py:5194\u001b[0m, in \u001b[0;36mBasePlotlyType._set_prop\u001b[1;34m(self, prop, val)\u001b[0m\n\u001b[0;32m   5192\u001b[0m         \u001b[39mreturn\u001b[39;00m\n\u001b[0;32m   5193\u001b[0m     \u001b[39melse\u001b[39;00m:\n\u001b[1;32m-> 5194\u001b[0m         \u001b[39mraise\u001b[39;00m err\n\u001b[0;32m   5196\u001b[0m \u001b[39m# val is None\u001b[39;00m\n\u001b[0;32m   5197\u001b[0m \u001b[39m# -----------\u001b[39;00m\n\u001b[0;32m   5198\u001b[0m \u001b[39mif\u001b[39;00m val \u001b[39mis\u001b[39;00m \u001b[39mNone\u001b[39;00m:\n\u001b[0;32m   5199\u001b[0m     \u001b[39m# Check if we should send null update\u001b[39;00m\n",
            "File \u001b[1;32mc:\\Users\\HP\\AppData\\Local\\Programs\\Python\\Python38\\lib\\site-packages\\plotly\\basedatatypes.py:5189\u001b[0m, in \u001b[0;36mBasePlotlyType._set_prop\u001b[1;34m(self, prop, val)\u001b[0m\n\u001b[0;32m   5186\u001b[0m validator \u001b[39m=\u001b[39m \u001b[39mself\u001b[39m\u001b[39m.\u001b[39m_get_validator(prop)\n\u001b[0;32m   5188\u001b[0m \u001b[39mtry\u001b[39;00m:\n\u001b[1;32m-> 5189\u001b[0m     val \u001b[39m=\u001b[39m validator\u001b[39m.\u001b[39;49mvalidate_coerce(val)\n\u001b[0;32m   5190\u001b[0m \u001b[39mexcept\u001b[39;00m \u001b[39mValueError\u001b[39;00m \u001b[39mas\u001b[39;00m err:\n\u001b[0;32m   5191\u001b[0m     \u001b[39mif\u001b[39;00m \u001b[39mself\u001b[39m\u001b[39m.\u001b[39m_skip_invalid:\n",
            "File \u001b[1;32mc:\\Users\\HP\\AppData\\Local\\Programs\\Python\\Python38\\lib\\site-packages\\_plotly_utils\\basevalidators.py:1375\u001b[0m, in \u001b[0;36mColorValidator.validate_coerce\u001b[1;34m(self, v, should_raise)\u001b[0m\n\u001b[0;32m   1373\u001b[0m     validated_v \u001b[39m=\u001b[39m \u001b[39mself\u001b[39m\u001b[39m.\u001b[39mvc_scalar(v)\n\u001b[0;32m   1374\u001b[0m     \u001b[39mif\u001b[39;00m validated_v \u001b[39mis\u001b[39;00m \u001b[39mNone\u001b[39;00m \u001b[39mand\u001b[39;00m should_raise:\n\u001b[1;32m-> 1375\u001b[0m         \u001b[39mself\u001b[39;49m\u001b[39m.\u001b[39;49mraise_invalid_val(v)\n\u001b[0;32m   1377\u001b[0m     v \u001b[39m=\u001b[39m validated_v\n\u001b[0;32m   1379\u001b[0m \u001b[39mreturn\u001b[39;00m v\n",
            "File \u001b[1;32mc:\\Users\\HP\\AppData\\Local\\Programs\\Python\\Python38\\lib\\site-packages\\_plotly_utils\\basevalidators.py:288\u001b[0m, in \u001b[0;36mBaseValidator.raise_invalid_val\u001b[1;34m(self, v, inds)\u001b[0m\n\u001b[0;32m    285\u001b[0m             \u001b[39mfor\u001b[39;00m i \u001b[39min\u001b[39;00m inds:\n\u001b[0;32m    286\u001b[0m                 name \u001b[39m+\u001b[39m\u001b[39m=\u001b[39m \u001b[39m\"\u001b[39m\u001b[39m[\u001b[39m\u001b[39m\"\u001b[39m \u001b[39m+\u001b[39m \u001b[39mstr\u001b[39m(i) \u001b[39m+\u001b[39m \u001b[39m\"\u001b[39m\u001b[39m]\u001b[39m\u001b[39m\"\u001b[39m\n\u001b[1;32m--> 288\u001b[0m         \u001b[39mraise\u001b[39;00m \u001b[39mValueError\u001b[39;00m(\n\u001b[0;32m    289\u001b[0m \u001b[39m            \u001b[39m\u001b[39m\"\"\"\u001b[39;00m\n\u001b[0;32m    290\u001b[0m \u001b[39m    Invalid value of type {typ} received for the '{name}' property of {pname}\u001b[39;00m\n\u001b[0;32m    291\u001b[0m \u001b[39m        Received value: {v}\u001b[39;00m\n\u001b[0;32m    292\u001b[0m \n\u001b[0;32m    293\u001b[0m \u001b[39m{valid_clr_desc}\"\"\"\u001b[39;00m\u001b[39m.\u001b[39mformat(\n\u001b[0;32m    294\u001b[0m                 name\u001b[39m=\u001b[39mname,\n\u001b[0;32m    295\u001b[0m                 pname\u001b[39m=\u001b[39m\u001b[39mself\u001b[39m\u001b[39m.\u001b[39mparent_name,\n\u001b[0;32m    296\u001b[0m                 typ\u001b[39m=\u001b[39mtype_str(v),\n\u001b[0;32m    297\u001b[0m                 v\u001b[39m=\u001b[39m\u001b[39mrepr\u001b[39m(v),\n\u001b[0;32m    298\u001b[0m                 valid_clr_desc\u001b[39m=\u001b[39m\u001b[39mself\u001b[39m\u001b[39m.\u001b[39mdescription(),\n\u001b[0;32m    299\u001b[0m             )\n\u001b[0;32m    300\u001b[0m         )\n",
            "\u001b[1;31mValueError\u001b[0m: \n    Invalid value of type 'sklearn.cluster._kmeans.KMeans' received for the 'color' property of scatter3d.marker\n        Received value: KMeans(n_clusters=3, random_state=0)\n\n    The 'color' property is a color and may be specified as:\n      - A hex string (e.g. '#ff0000')\n      - An rgb/rgba string (e.g. 'rgb(255,0,0)')\n      - An hsl/hsla string (e.g. 'hsl(0,100%,50%)')\n      - An hsv/hsva string (e.g. 'hsv(0,100%,100%)')\n      - A named CSS color:\n            aliceblue, antiquewhite, aqua, aquamarine, azure,\n            beige, bisque, black, blanchedalmond, blue,\n            blueviolet, brown, burlywood, cadetblue,\n            chartreuse, chocolate, coral, cornflowerblue,\n            cornsilk, crimson, cyan, darkblue, darkcyan,\n            darkgoldenrod, darkgray, darkgrey, darkgreen,\n            darkkhaki, darkmagenta, darkolivegreen, darkorange,\n            darkorchid, darkred, darksalmon, darkseagreen,\n            darkslateblue, darkslategray, darkslategrey,\n            darkturquoise, darkviolet, deeppink, deepskyblue,\n            dimgray, dimgrey, dodgerblue, firebrick,\n            floralwhite, forestgreen, fuchsia, gainsboro,\n            ghostwhite, gold, goldenrod, gray, grey, green,\n            greenyellow, honeydew, hotpink, indianred, indigo,\n            ivory, khaki, lavender, lavenderblush, lawngreen,\n            lemonchiffon, lightblue, lightcoral, lightcyan,\n            lightgoldenrodyellow, lightgray, lightgrey,\n            lightgreen, lightpink, lightsalmon, lightseagreen,\n            lightskyblue, lightslategray, lightslategrey,\n            lightsteelblue, lightyellow, lime, limegreen,\n            linen, magenta, maroon, mediumaquamarine,\n            mediumblue, mediumorchid, mediumpurple,\n            mediumseagreen, mediumslateblue, mediumspringgreen,\n            mediumturquoise, mediumvioletred, midnightblue,\n            mintcream, mistyrose, moccasin, navajowhite, navy,\n            oldlace, olive, olivedrab, orange, orangered,\n            orchid, palegoldenrod, palegreen, paleturquoise,\n            palevioletred, papayawhip, peachpuff, peru, pink,\n            plum, powderblue, purple, red, rosybrown,\n            royalblue, rebeccapurple, saddlebrown, salmon,\n            sandybrown, seagreen, seashell, sienna, silver,\n            skyblue, slateblue, slategray, slategrey, snow,\n            springgreen, steelblue, tan, teal, thistle, tomato,\n            turquoise, violet, wheat, white, whitesmoke,\n            yellow, yellowgreen\n      - A number that will be interpreted as a color\n        according to scatter3d.marker.colorscale\n      - A list or array of any of the above"
          ]
        }
      ],
      "source": [
        "import os\n",
        "path=\"../ds3.csv\"\n",
        "\n",
        "# fig, ax=plt.subplots(1, 3,figsize=(25,60))\n",
        "# print(f\"{'FileName':<30}{'Bisecting K-Mean SSE':>30}{'new bisecting SSE':^30}\")\n",
        "for i in range(0,1):\n",
        "  df = pd.read_csv(path, sep=\"\\t\", header=None)\n",
        "  X, labels = df.iloc[:, :-1], df.iloc[:, -1]\n",
        "  if(X.shape[1]==0):\n",
        "    df = pd.read_csv(path, sep=\",\", header=None)\n",
        "    X, labels = df.iloc[:, :-1], df.iloc[:, -1]\n",
        "  if(X.shape[1]==0):\n",
        "    df = pd.read_csv(path, sep=\" \", header=None)\n",
        "    X, labels = df.iloc[:, :-1], df.iloc[:, -1]\n",
        "  # print(X.shape)\n",
        "  X, actual_labels = np.array(X), np.array(labels)\n",
        "  K=len(set(actual_labels))\n",
        "\n",
        "  bisecting_labels = bisecting_kmeans(X,K)\n",
        "  kmeans_pp_labels = kmeans_pp(X,K)\n",
        "  kmeans_labels=my_kmeans(X,K)\n",
        "  print(kmeans_labels)\n",
        "  bisecting_fig=plot(X,bisecting_labels)\n",
        "  kmeans_pp_fig=plot(X,kmeans_pp_labels)\n",
        "  kmeans_fig=plot(X,kmeans_labels)\n",
        "  bisecting_fig.write_html('cluster/'+path[3:6]+'bisecting.html')\n",
        "  kmeans_fig.write_html('cluster/'+path[3:6]+'kmeans.html')\n",
        "  kmeans_pp_fig.write_html('cluster/'+path[3:6]+'kmeansPP.html')"
      ]
    }
  ],
  "metadata": {
    "colab": {
      "provenance": []
    },
    "kernelspec": {
      "display_name": "Python 3",
      "name": "python3"
    },
    "language_info": {
      "codemirror_mode": {
        "name": "ipython",
        "version": 3
      },
      "file_extension": ".py",
      "mimetype": "text/x-python",
      "name": "python",
      "nbconvert_exporter": "python",
      "pygments_lexer": "ipython3",
      "version": "3.8.3"
    }
  },
  "nbformat": 4,
  "nbformat_minor": 0
}
